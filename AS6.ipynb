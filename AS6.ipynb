{
 "cells": [
  {
   "cell_type": "code",
   "execution_count": 98,
   "id": "17bcb8ae-b79b-4786-8e6a-48e094730b58",
   "metadata": {},
   "outputs": [
    {
     "name": "stderr",
     "output_type": "stream",
     "text": [
      "[nltk_data] Downloading package punkt to\n",
      "[nltk_data]     C:\\Users\\harsi\\AppData\\Roaming\\nltk_data...\n",
      "[nltk_data]   Package punkt is already up-to-date!\n"
     ]
    }
   ],
   "source": [
    "import nltk\n",
    "nltk.download('punkt')\n",
    "\n",
    "import re\n",
    "import os\n",
    "\n",
    "import json\n",
    "import random\n",
    "import pandas as pd\n",
    "import plotly.express as px"
   ]
  },
  {
   "cell_type": "code",
   "execution_count": 99,
   "id": "e9a17ed6-bbc8-4667-a471-fd422be48015",
   "metadata": {},
   "outputs": [],
   "source": [
    "def find_industry(sic):\n",
    "    sic_num = int(sic)\n",
    "    if sic_num < 1000:\n",
    "        return 0\n",
    "    if sic_num < 1500:\n",
    "        return 1\n",
    "    if sic_num < 1800:\n",
    "        return 2\n",
    "    if sic_num < 4000:\n",
    "        return 3\n",
    "    if sic_num < 5000:\n",
    "        return 4\n",
    "    if sic_num < 5200:\n",
    "        return 5\n",
    "    if sic_num < 6000:\n",
    "        return 6\n",
    "    if sic_num < 6800:\n",
    "        return 7\n",
    "    if sic_num < 9000:\n",
    "        return 8\n",
    "    else:\n",
    "        return 9"
   ]
  },
  {
   "cell_type": "code",
   "execution_count": 100,
   "id": "82f48760-14e3-4a3d-a61a-d0d788bda473",
   "metadata": {
    "scrolled": true
   },
   "outputs": [
    {
     "name": "stdout",
     "output_type": "stream",
     "text": [
      "Organizing data...\n",
      "Data is organized.\n",
      "2015\n",
      "2016\n",
      "2017\n",
      "2018\n",
      "2019\n",
      "2020\n",
      "2021\n",
      "2022\n"
     ]
    }
   ],
   "source": [
    "years = dict()\n",
    "\n",
    "industries = [dict() for _ in range (10)]\n",
    "\n",
    "directory = \"./10K_item1a_PERMNO_2015_sic_tic\"\n",
    "\n",
    "all_filings = os.listdir(directory)\n",
    "\n",
    "print(\"Organizing data...\")\n",
    "for filing in all_filings:\n",
    "    \n",
    "    considered_filing = open(directory + \"/\" + filing, 'r')\n",
    "    data = json.load(considered_filing)\n",
    "\n",
    "    year_of_filing = (data[\"filing_date\"])[0:4]\n",
    "\n",
    "    if year_of_filing not in years:\n",
    "        years[year_of_filing] = [dict() for _ in range(10)]\n",
    "\n",
    "    industries = years[year_of_filing]\n",
    "    \n",
    "    sic_num = data[\"SIC\"]\n",
    "    cik = data[\"cik\"]\n",
    "    risk_factors = data[\"item_1A\"]\n",
    "\n",
    "    industry_set = industries[find_industry(sic_num)]\n",
    "\n",
    "    industry_set[cik] = nltk.sent_tokenize(risk_factors[22:])\n",
    "\n",
    "    considered_filing.close()\n",
    "\n",
    "print(\"Data is organized.\")\n",
    "# for key in years:\n",
    "#     print(key)"
   ]
  },
  {
   "cell_type": "code",
   "execution_count": 140,
   "id": "d9b67113-e284-4d8a-8f47-8b8ec00d6563",
   "metadata": {},
   "outputs": [],
   "source": [
    "sample_data = dict()\n",
    "\n",
    "for year, industries in years.items():\n",
    "    sample_data[year] = [dict() for _ in range (10)]\n",
    "    \n",
    "    for i, industry in enumerate(industries):\n",
    "        ciks = list(industry.keys())\n",
    "        sample_size = min(10, len(ciks))\n",
    "        sample_ciks = random.sample(ciks, sample_size)\n",
    "\n",
    "        sample_data[year][i] = sample_ciks\n",
    "\n",
    "# for year, industries in sample_data.items():\n",
    "#     print(\"Year: \" + year)\n",
    "\n",
    "#     for i, sample_ciks in enumerate(industries):\n",
    "#         print(f\"Industry {i}: {sample_ciks}\")"
   ]
  },
  {
   "cell_type": "code",
   "execution_count": 141,
   "id": "ef642394-62fd-4ef5-a97d-5f52ccca686e",
   "metadata": {},
   "outputs": [],
   "source": [
    "keyword_dict = {\n",
    "    \"attack\" : {\n",
    "        \"cyber\" : 1,\n",
    "        \"network\": 1,\n",
    "        \"system\": 1,\n",
    "        \"product\": 1,\n",
    "        \"service\": 1,\n",
    "        \"datacenter\": 1,\n",
    "        \"infrastructure\": 1,\n",
    "        \"terror\": -1,\n",
    "        \"war\": -1, \n",
    "        \"contraband\": -1,\n",
    "        \"bomb\": -1\n",
    "    },\n",
    "    \"threat\" : {\n",
    "        \"cyber\" : 1,\n",
    "        \"network\": 1,\n",
    "        \"system\": 1,\n",
    "        \"product\": 1,\n",
    "        \"service\": 1,\n",
    "        \"datacenter\": 1,\n",
    "        \"infrastructure\": 1,\n",
    "        \"terror\": -1,\n",
    "        \"simulator\": -1, \n",
    "        \"disease\": -1,\n",
    "        \"legal action\": -1,\n",
    "        \"competitor\": -1\n",
    "    },\n",
    "    \"computer\" : {\n",
    "        \"malware\": 1,\n",
    "        \"virus\": 1,\n",
    "        \"intrusion\": 1,\n",
    "        \"fire\": -1,\n",
    "        \"product sale\": -1,\n",
    "        \"warranty claim\": -1\n",
    "    },\n",
    "    \"information system\" : {\n",
    "        \"malware\": 1,\n",
    "        \"virus\": 1,\n",
    "        \"intrusion\": 1,\n",
    "        \"fire\": -1,\n",
    "        \"product sale\": -1,\n",
    "        \"warranty claim\": -1\n",
    "    },\n",
    "    \"malicious\" : {\n",
    "        \"malware\": 1,\n",
    "        \"virus\": 1,\n",
    "        \"intrusion\": 1,\n",
    "        \"fire\": -1,\n",
    "        \"product sale\": -1,\n",
    "        \"warranty claim\": -1\n",
    "    },\n",
    "    \"breaches\" : {\n",
    "        \"fiduciary duty\": -1,\n",
    "        \"fiduciary duties\": -1,\n",
    "        \"covenant\": -1,\n",
    "        \"credit\": -1,\n",
    "        \"agreement\": -1,\n",
    "        \"obligation\": -1\n",
    "    },\n",
    "    \"hacker\" : {\n",
    "        \"fiduciary\": -1,\n",
    "        \"warrant\": -1,\n",
    "        \"regulation\": -1,\n",
    "        \"contract\": -1\n",
    "    },\n",
    "    \"hacking\" : {\n",
    "        \"fiduciary\": -1,\n",
    "        \"warrant\": -1,\n",
    "        \"regulation\": -1,\n",
    "        \"contract\": -1\n",
    "    },\n",
    "    \"social engineering\" : {\n",
    "        \"fiduciary\": -1,\n",
    "        \"warrant\": -1,\n",
    "        \"regulation\": -1,\n",
    "        \"contract\": -1\n",
    "    },\n",
    "    \"denial of service\" : {\n",
    "        \"fiduciary\": -1,\n",
    "        \"warrant\": -1,\n",
    "        \"regulation\": -1,\n",
    "        \"contract\": -1\n",
    "    },\n",
    "    \"cyberattack\" : {\n",
    "        \"fiduciary\": -1,\n",
    "        \"warrant\": -1,\n",
    "        \"regulation\": -1,\n",
    "        \"contract\": -1\n",
    "    },\n",
    "    \"cybersecurity\" : {\n",
    "        \"fiduciary\": -1,\n",
    "        \"warrant\": -1,\n",
    "        \"regulation\": -1,\n",
    "        \"contract\": -1\n",
    "    }\n",
    "}"
   ]
  },
  {
   "cell_type": "code",
   "execution_count": 142,
   "id": "179d3075-197a-413d-a281-1dcafb97ed28",
   "metadata": {},
   "outputs": [],
   "source": [
    "def sentence_score(sentence):\n",
    "    lower_sentence = sentence.lower()\n",
    "    score = 0\n",
    "\n",
    "    for keyword, relevence_test in keyword_dict.items():\n",
    "        if re.search(r'\\b' + re.escape(keyword) + r'\\w*\\b', lower_sentence):\n",
    "            #print(keyword)\n",
    "            #score = score + 1\n",
    "        \n",
    "            for relevent_word, word_score in relevence_test.items():\n",
    "                if re.search(r'\\b' + re.escape(relevent_word) + r'\\w*\\b', lower_sentence):\n",
    "                    score = score + word_score\n",
    "                    #print(\"\\t\" + relevent_word + \": \" + str(word_score))\n",
    "\n",
    "            #print(\"\\n\")\n",
    "\n",
    "    return score"
   ]
  },
  {
   "cell_type": "code",
   "execution_count": 143,
   "id": "3bd02af0-1985-4299-a1e8-53d4ca46bd39",
   "metadata": {},
   "outputs": [],
   "source": [
    "risk_dict = {}\n",
    "\n",
    "for year, industries in sample_data.items():\n",
    "    risk_dict[year] = [dict() for _ in range (10)]\n",
    "    \n",
    "    for i, industry in enumerate(industries):\n",
    "        risk_dict[year][i] = {\n",
    "            \"industry_risk_sentences\": 0,\n",
    "            \"industry_total_sentences\": 0,\n",
    "            **{\n",
    "                cik: {\n",
    "                    \"total_sentences\": 0,\n",
    "                    \"risk_sentences\": 0\n",
    "                }\n",
    "                for cik in sample_data[year][i]\n",
    "            }\n",
    "        }"
   ]
  },
  {
   "cell_type": "code",
   "execution_count": 144,
   "id": "919db307-4dc1-4baf-b343-906d568c011b",
   "metadata": {},
   "outputs": [],
   "source": [
    "for year, industries in sample_data.items():\n",
    "    path_name_year = f\"./{year}\"\n",
    "    \n",
    "    for i, industry in enumerate(industries):\n",
    "        path_name = f\"{path_name_year}/{i}\"\n",
    "        os.makedirs(path_name)\n",
    "        \n",
    "        for cik in sample_data[year][i]:\n",
    "            risk_counter = 0\n",
    "            total_sentences = 0\n",
    "            \n",
    "            for sentence in years[year][i][cik]:\n",
    "                total_sentences = total_sentences + 1\n",
    "                if sentence_score(sentence) > 0:\n",
    "                    file_to_append_to = f\"{path_name}/{cik}-{year}.txt\"\n",
    "\n",
    "                    accessed_file = open(file_to_append_to, \"a\", encoding=\"utf-8\")\n",
    "                    accessed_file.write(sentence.strip() + \"\\n\")\n",
    "                    accessed_file.close()\n",
    "                    \n",
    "                    risk_counter = risk_counter + 1\n",
    "\n",
    "            if total_sentences > 0:\n",
    "                risk_dict[year][i][cik][\"total_sentences\"] = total_sentences\n",
    "                risk_dict[year][i][cik][\"risk_sentences\"] = risk_counter\n",
    "                risk_dict[year][i][cik][\"risk_ratio\"] = risk_counter / total_sentences"
   ]
  },
  {
   "cell_type": "code",
   "execution_count": 145,
   "id": "80e46b79-af7a-4bf3-9179-7ed4524549ea",
   "metadata": {},
   "outputs": [],
   "source": [
    "for year, industries in risk_dict.items():\n",
    "    \n",
    "    for i, industry in enumerate(industries):\n",
    "        industry_total_sentences = 0\n",
    "        industry_risk_sentences = 0\n",
    "\n",
    "        for cik in risk_dict[year][i]:\n",
    "            if cik == \"industry_risk_sentences\" or cik == \"industry_total_sentences\":\n",
    "                continue\n",
    "\n",
    "            industry_total_sentences = industry_total_sentences + risk_dict[year][i][cik][\"total_sentences\"]\n",
    "            industry_risk_sentences = industry_risk_sentences + risk_dict[year][i][cik][\"risk_sentences\"]\n",
    "\n",
    "        if industry_total_sentences > 0:\n",
    "            risk_dict[year][i][\"industry_risk_sentences\"] = industry_risk_sentences\n",
    "            risk_dict[year][i][\"industry_total_sentences\"] = industry_total_sentences"
   ]
  },
  {
   "cell_type": "code",
   "execution_count": 146,
   "id": "409731ca-6e31-4cef-9376-6a08bc7c07cf",
   "metadata": {},
   "outputs": [],
   "source": [
    "industry_records = []\n",
    "for year, industries in risk_dict.items():\n",
    "    for i, industry in enumerate(industries):\n",
    "        industry_records.append({\n",
    "            \"year\": int(year),\n",
    "            \"industry\": i,\n",
    "            \"industry_risk_sentences\": risk_dict[year][i][\"industry_risk_sentences\"],\n",
    "            \"industry_total_sentences\": risk_dict[year][i][\"industry_total_sentences\"]\n",
    "        })\n",
    "\n",
    "industry_df = pd.DataFrame(industry_records)"
   ]
  },
  {
   "cell_type": "code",
   "execution_count": 147,
   "id": "dd30fec2-9043-49bf-940a-eaa30900be43",
   "metadata": {},
   "outputs": [
    {
     "name": "stdout",
     "output_type": "stream",
     "text": [
      "Count: 10\n",
      "Mean: 0.009374411980396917\n",
      "Standard deviation: 0.003105841221744986\n",
      "Minimum: 0.003664373317379599\n",
      "Maximum: 0.015227251689345552\n",
      "Skew: -0.03637353909092603\n",
      "Kurtosis: 1.1555572930141969\n",
      "1% percentile: 0.003933271103766362\n",
      "5% percentile: 0.005008862249313414\n",
      "25% percentile: 0.007594940443961145\n",
      "50% percentile: 0.009733466614762609\n",
      "75% percentile: 0.010595395529841995\n",
      "95% percentile: 0.013493098665360522\n",
      "99% percentile: 0.014880421084548547\n"
     ]
    }
   ],
   "source": [
    "combined_industry_df = industry_df.groupby(\"industry\")\n",
    "combined_industry_df = combined_industry_df.agg({\n",
    "    'industry_risk_sentences': 'sum',\n",
    "    'industry_total_sentences': 'sum'\n",
    "})\n",
    "combined_industry_df[\"industry_risk\"] = (combined_industry_df[\"industry_risk_sentences\"] / combined_industry_df[\"industry_total_sentences\"]).astype(float)\n",
    "\n",
    "print(\"Count: \" + str(combined_industry_df[\"industry_risk\"].count()))\n",
    "print(\"Mean: \" + str(combined_industry_df[\"industry_risk\"].mean()))\n",
    "print(\"Standard deviation: \" + str(combined_industry_df[\"industry_risk\"].std()))\n",
    "print(\"Minimum: \" + str(combined_industry_df[\"industry_risk\"].min()))\n",
    "print(\"Maximum: \" + str(combined_industry_df[\"industry_risk\"].max()))\n",
    "print(\"Skew: \" + str(combined_industry_df[\"industry_risk\"].skew()))\n",
    "print(\"Kurtosis: \" + str(combined_industry_df[\"industry_risk\"].kurtosis()))\n",
    "\n",
    "print(\"1% percentile: \" + str(combined_industry_df[\"industry_risk\"].quantile(0.01)))\n",
    "print(\"5% percentile: \" + str(combined_industry_df[\"industry_risk\"].quantile(0.05)))\n",
    "print(\"25% percentile: \" + str(combined_industry_df[\"industry_risk\"].quantile(0.25)))\n",
    "print(\"50% percentile: \" + str(combined_industry_df[\"industry_risk\"].quantile(0.50)))\n",
    "print(\"75% percentile: \" + str(combined_industry_df[\"industry_risk\"].quantile(0.75)))\n",
    "print(\"95% percentile: \" + str(combined_industry_df[\"industry_risk\"].quantile(0.95)))\n",
    "print(\"99% percentile: \" + str(combined_industry_df[\"industry_risk\"].quantile(0.99)))"
   ]
  },
  {
   "cell_type": "code",
   "execution_count": 148,
   "id": "97e1d39c-6e40-4db1-b5be-c28db60f2400",
   "metadata": {},
   "outputs": [],
   "source": [
    "company_records = []\n",
    "for year, industries in risk_dict.items():\n",
    "    for i, industry in enumerate(industries):\n",
    "        for cik, cik_data in industry.items():\n",
    "            if cik == \"industry_risk_sentences\" or cik == \"industry_total_sentences\":\n",
    "                continue\n",
    "            \n",
    "            company_records.append({\n",
    "                \"year\": int(year),\n",
    "                \"industry\": i,\n",
    "                \"cik\": cik,\n",
    "                \"company_risk_sentences\": cik_data[\"risk_sentences\"],\n",
    "                \"company_total_sentences\": cik_data[\"total_sentences\"]\n",
    "            })\n",
    "\n",
    "company_df = pd.DataFrame(company_records)\n",
    "company_df[\"company_risk_ratio\"] = company_df[\"company_risk_sentences\"] / company_df[\"company_total_sentences\"]\n",
    "company_df[\"company_risk_ratio\"] = company_df[\"company_risk_ratio\"].fillna(0)\n",
    "# print(company_df)"
   ]
  },
  {
   "cell_type": "code",
   "execution_count": 158,
   "id": "366096f6-ab55-4ae5-97cb-a4eaf7b00ee7",
   "metadata": {},
   "outputs": [
    {
     "name": "stdout",
     "output_type": "stream",
     "text": [
      "\n",
      "Year: 2015\n",
      "\n",
      "Year: 2016\n",
      "\n",
      "Year: 2017\n",
      "\n",
      "Year: 2018\n",
      "\n",
      "Year: 2019\n",
      "\n",
      "Year: 2020\n",
      "\n",
      "Year: 2021\n",
      "\n",
      "Year: 2022\n"
     ]
    }
   ],
   "source": [
    "combined_company_df = company_df.groupby([\"year\", \"industry\"])\n",
    "\n",
    "combined_company_df = combined_company_df.agg(\n",
    "    company_risk_ratio_average = ('company_risk_ratio', 'mean'),\n",
    "    company_risk_ratio_std = ('company_risk_ratio', 'std')\n",
    ")\n",
    "\n",
    "combined_company_df = combined_company_df.reset_index()\n",
    "\n",
    "sic_mapping = {\n",
    "    0: \"Agriculture, Forestry, and Fishing\",\n",
    "    1: \"Mining\",\n",
    "    2: \"Construction\",\n",
    "    3: \"Manufacturing\",\n",
    "    4: \"Transportation and other Utilities\",\n",
    "    5: \"Wholesale Trade\",\n",
    "    6: \"Retail Trade\",\n",
    "    7: \"Finance, Insurance, and Real Estate\",\n",
    "    8: \"Services\",\n",
    "    9: \"Public Administration\"\n",
    "}\n",
    "\n",
    "combined_company_df[\"industry\"] = combined_company_df[\"industry\"].replace(sic_mapping)\n",
    "\n",
    "for year in combined_company_df[\"year\"].unique():\n",
    "    # print(\"\\nYear: \" + str(year))\n",
    "\n",
    "    year_data = combined_company_df[combined_company_df['year'] == year]\n",
    "    \n",
    "    for index, row in year_data.iterrows():\n",
    "        industry_name = row['industry']\n",
    "        company_risk_ratio_average = round(row['company_risk_ratio_average'], 4)  \n",
    "        company_risk_ratio_std = round(row['company_risk_ratio_std'], 4)\n",
    "        \n",
    "        # Print the results\n",
    "        # print(\"\\tIndustry: \" + industry_name)\n",
    "        # print(\"\\t\\tRisk Ratio Average: \" + str(company_risk_ratio_average))\n",
    "        # print(\"\\t\\tRisk Ratio Std: \" + str(company_risk_ratio_std))"
   ]
  },
  {
   "cell_type": "code",
   "execution_count": 155,
   "id": "4111ce5a-1f78-4788-be25-578ea8538b3b",
   "metadata": {
    "scrolled": true
   },
   "outputs": [
    {
     "data": {
      "application/vnd.plotly.v1+json": {
       "config": {
        "plotlyServerURL": "https://plot.ly"
       },
       "data": [
        {
         "alignmentgroup": "True",
         "error_y": {
          "array": [
           0.00666215217077545,
           0.005733019000246768,
           0.005096953126371779,
           0.012163885539209817,
           0.00781696632549407,
           0.007211804114098331,
           0.00686072143552703,
           0.006355946036081762
          ]
         },
         "hovertemplate": "industry=Agriculture, Forestry, and Fishing<br>year=%{x}<br>company_risk_ratio_average=%{y}<extra></extra>",
         "legendgroup": "Agriculture, Forestry, and Fishing",
         "marker": {
          "color": "#636efa",
          "pattern": {
           "shape": ""
          }
         },
         "name": "Agriculture, Forestry, and Fishing",
         "offsetgroup": "Agriculture, Forestry, and Fishing",
         "orientation": "v",
         "showlegend": true,
         "textposition": "auto",
         "type": "bar",
         "x": [
          2015,
          2016,
          2017,
          2018,
          2019,
          2020,
          2021,
          2022
         ],
         "xaxis": "x",
         "y": [
          0.005447272774669793,
          0.007564217597826565,
          0.009400190037470016,
          0.011224033301434622,
          0.012009422217240042,
          0.012400575474104057,
          0.01297658402568388,
          0.013425136453012703
         ],
         "yaxis": "y"
        },
        {
         "alignmentgroup": "True",
         "error_y": {
          "array": [
           0.005494765706469598,
           0.006354212547479259,
           0.0035342280583214604,
           0.006702212713048955,
           0.007629538145768232,
           0.011583430188100428,
           0.010006260968862882,
           0.010491675804015933
          ]
         },
         "hovertemplate": "industry=Mining<br>year=%{x}<br>company_risk_ratio_average=%{y}<extra></extra>",
         "legendgroup": "Mining",
         "marker": {
          "color": "#EF553B",
          "pattern": {
           "shape": ""
          }
         },
         "name": "Mining",
         "offsetgroup": "Mining",
         "orientation": "v",
         "showlegend": true,
         "textposition": "auto",
         "type": "bar",
         "x": [
          2015,
          2016,
          2017,
          2018,
          2019,
          2020,
          2021,
          2022
         ],
         "xaxis": "x",
         "y": [
          0.00464602974178183,
          0.008867604606655062,
          0.0038647774413272454,
          0.010358693778370832,
          0.010118432122829538,
          0.010957221414697058,
          0.014115090865801191,
          0.01705368101275457
         ],
         "yaxis": "y"
        },
        {
         "alignmentgroup": "True",
         "error_y": {
          "array": [
           0.00241958980379284,
           0.0031504574047548513,
           0.004296731133603179,
           0.005742788040771649,
           0.005262326890395766,
           0.00523959689403062,
           0.005186150552460386,
           0.007081310607331354
          ]
         },
         "hovertemplate": "industry=Construction<br>year=%{x}<br>company_risk_ratio_average=%{y}<extra></extra>",
         "legendgroup": "Construction",
         "marker": {
          "color": "#00cc96",
          "pattern": {
           "shape": ""
          }
         },
         "name": "Construction",
         "offsetgroup": "Construction",
         "orientation": "v",
         "showlegend": true,
         "textposition": "auto",
         "type": "bar",
         "x": [
          2015,
          2016,
          2017,
          2018,
          2019,
          2020,
          2021,
          2022
         ],
         "xaxis": "x",
         "y": [
          0.00289920084170408,
          0.004315419888357559,
          0.004105422766976051,
          0.0050690399674806624,
          0.006147295991785591,
          0.007780278953371948,
          0.013098319409066514,
          0.01414813418288537
         ],
         "yaxis": "y"
        },
        {
         "alignmentgroup": "True",
         "error_y": {
          "array": [
           0.005483318242240344,
           0.0027444727664306954,
           0.00564989361026767,
           0.019391577578676943,
           0.009319328912331126,
           0.01593415332523488,
           0.00964604812138707,
           0.007216980138664978
          ]
         },
         "hovertemplate": "industry=Manufacturing<br>year=%{x}<br>company_risk_ratio_average=%{y}<extra></extra>",
         "legendgroup": "Manufacturing",
         "marker": {
          "color": "#ab63fa",
          "pattern": {
           "shape": ""
          }
         },
         "name": "Manufacturing",
         "offsetgroup": "Manufacturing",
         "orientation": "v",
         "showlegend": true,
         "textposition": "auto",
         "type": "bar",
         "x": [
          2015,
          2016,
          2017,
          2018,
          2019,
          2020,
          2021,
          2022
         ],
         "xaxis": "x",
         "y": [
          0.00515459018919569,
          0.005153809767368538,
          0.005356278122923642,
          0.013248970333924023,
          0.010490329901319009,
          0.008595979055260336,
          0.01121874793437661,
          0.007873870079880435
         ],
         "yaxis": "y"
        },
        {
         "alignmentgroup": "True",
         "error_y": {
          "array": [
           0.00813870884268829,
           0.0072103266347856325,
           0.013854921592267696,
           0.014804166478741634,
           0.009299038993392536,
           0.0063898060612252745,
           0.013924718376654934,
           0.02071493123183222
          ]
         },
         "hovertemplate": "industry=Transportation and other Utilities<br>year=%{x}<br>company_risk_ratio_average=%{y}<extra></extra>",
         "legendgroup": "Transportation and other Utilities",
         "marker": {
          "color": "#FFA15A",
          "pattern": {
           "shape": ""
          }
         },
         "name": "Transportation and other Utilities",
         "offsetgroup": "Transportation and other Utilities",
         "orientation": "v",
         "showlegend": true,
         "textposition": "auto",
         "type": "bar",
         "x": [
          2015,
          2016,
          2017,
          2018,
          2019,
          2020,
          2021,
          2022
         ],
         "xaxis": "x",
         "y": [
          0.008062067947065581,
          0.006441426677858006,
          0.012848602836428935,
          0.01490875849485954,
          0.01331294759725305,
          0.009364029556119442,
          0.013700633454296882,
          0.018840473147418994
         ],
         "yaxis": "y"
        },
        {
         "alignmentgroup": "True",
         "error_y": {
          "array": [
           0.011604236177416818,
           0.00573807134782695,
           0.016112338139663448,
           0.009320027347242028,
           0.007164158879845681,
           0.007965428154843667,
           0.008315942964585276,
           0.011311571045145552
          ]
         },
         "hovertemplate": "industry=Wholesale Trade<br>year=%{x}<br>company_risk_ratio_average=%{y}<extra></extra>",
         "legendgroup": "Wholesale Trade",
         "marker": {
          "color": "#19d3f3",
          "pattern": {
           "shape": ""
          }
         },
         "name": "Wholesale Trade",
         "offsetgroup": "Wholesale Trade",
         "orientation": "v",
         "showlegend": true,
         "textposition": "auto",
         "type": "bar",
         "x": [
          2015,
          2016,
          2017,
          2018,
          2019,
          2020,
          2021,
          2022
         ],
         "xaxis": "x",
         "y": [
          0.008150120924607492,
          0.006826827866715674,
          0.011477154971891095,
          0.009727055252011613,
          0.016604578674407657,
          0.007406430222439704,
          0.012644155904214818,
          0.014521067374861784
         ],
         "yaxis": "y"
        },
        {
         "alignmentgroup": "True",
         "error_y": {
          "array": [
           0.004972422454178382,
           0.006433163864721213,
           0.010397863846256393,
           0.011251307179841127,
           0.018459036452818663,
           0.01898737451208713,
           0.016128497437773132,
           0.00566554877815346
          ]
         },
         "hovertemplate": "industry=Retail Trade<br>year=%{x}<br>company_risk_ratio_average=%{y}<extra></extra>",
         "legendgroup": "Retail Trade",
         "marker": {
          "color": "#FF6692",
          "pattern": {
           "shape": ""
          }
         },
         "name": "Retail Trade",
         "offsetgroup": "Retail Trade",
         "orientation": "v",
         "showlegend": true,
         "textposition": "auto",
         "type": "bar",
         "x": [
          2015,
          2016,
          2017,
          2018,
          2019,
          2020,
          2021,
          2022
         ],
         "xaxis": "x",
         "y": [
          0.005868523840165183,
          0.007622712448756915,
          0.008562609483251713,
          0.011752331454227041,
          0.015062834390790886,
          0.018907718120683977,
          0.019103152234676835,
          0.008120619424402292
         ],
         "yaxis": "y"
        },
        {
         "alignmentgroup": "True",
         "error_y": {
          "array": [
           0.013678703362135324,
           0.007695849480359278,
           0.007865429396144057,
           0.011268282894526723,
           0.014710061237080078,
           0.020932113548926524,
           0.011521217588250905,
           0.008155135580729037
          ]
         },
         "hovertemplate": "industry=Finance, Insurance, and Real Estate<br>year=%{x}<br>company_risk_ratio_average=%{y}<extra></extra>",
         "legendgroup": "Finance, Insurance, and Real Estate",
         "marker": {
          "color": "#B6E880",
          "pattern": {
           "shape": ""
          }
         },
         "name": "Finance, Insurance, and Real Estate",
         "offsetgroup": "Finance, Insurance, and Real Estate",
         "orientation": "v",
         "showlegend": true,
         "textposition": "auto",
         "type": "bar",
         "x": [
          2015,
          2016,
          2017,
          2018,
          2019,
          2020,
          2021,
          2022
         ],
         "xaxis": "x",
         "y": [
          0.008062409653260027,
          0.009905203041708884,
          0.012419168419899828,
          0.014402352607377183,
          0.015005491334799509,
          0.022559793648119542,
          0.016357479794841805,
          0.01559428800985747
         ],
         "yaxis": "y"
        },
        {
         "alignmentgroup": "True",
         "error_y": {
          "array": [
           0.006840463232361317,
           0.009113994121933963,
           0.009430492790699678,
           0.007245136787566546,
           0.009317652426407034,
           0.007246185216827387,
           0.014193217606185556,
           0.0068323668934303205
          ]
         },
         "hovertemplate": "industry=Services<br>year=%{x}<br>company_risk_ratio_average=%{y}<extra></extra>",
         "legendgroup": "Services",
         "marker": {
          "color": "#FF97FF",
          "pattern": {
           "shape": ""
          }
         },
         "name": "Services",
         "offsetgroup": "Services",
         "orientation": "v",
         "showlegend": true,
         "textposition": "auto",
         "type": "bar",
         "x": [
          2015,
          2016,
          2017,
          2018,
          2019,
          2020,
          2021,
          2022
         ],
         "xaxis": "x",
         "y": [
          0.007309924883268891,
          0.01447670980909076,
          0.010209653869102797,
          0.00662884142933125,
          0.009995395185877012,
          0.012107231027791954,
          0.022240469250091467,
          0.010605492258891167
         ],
         "yaxis": "y"
        },
        {
         "alignmentgroup": "True",
         "error_y": {
          "array": [
           0.007348030887785097,
           0.004667083624916829,
           0.012648918123835584,
           0.001510413090778025,
           0.0016593395524022567,
           0.0018115415075336658,
           0.008946337136106685,
           0.004923648444430547
          ]
         },
         "hovertemplate": "industry=Public Administration<br>year=%{x}<br>company_risk_ratio_average=%{y}<extra></extra>",
         "legendgroup": "Public Administration",
         "marker": {
          "color": "#FECB52",
          "pattern": {
           "shape": ""
          }
         },
         "name": "Public Administration",
         "offsetgroup": "Public Administration",
         "orientation": "v",
         "showlegend": true,
         "textposition": "auto",
         "type": "bar",
         "x": [
          2015,
          2016,
          2017,
          2018,
          2019,
          2020,
          2021,
          2022
         ],
         "xaxis": "x",
         "y": [
          0.003378248119809124,
          0.0023253314592535613,
          0.007345344258853535,
          0.0007134326283262454,
          0.0009592423085126957,
          0.0013331629102922757,
          0.007930315362670018,
          0.004524473956844945
         ],
         "yaxis": "y"
        }
       ],
       "layout": {
        "barmode": "group",
        "height": 575,
        "legend": {
         "title": {
          "text": "Industry"
         },
         "tracegroupgap": 0
        },
        "template": {
         "data": {
          "bar": [
           {
            "error_x": {
             "color": "#2a3f5f"
            },
            "error_y": {
             "color": "#2a3f5f"
            },
            "marker": {
             "line": {
              "color": "#E5ECF6",
              "width": 0.5
             },
             "pattern": {
              "fillmode": "overlay",
              "size": 10,
              "solidity": 0.2
             }
            },
            "type": "bar"
           }
          ],
          "barpolar": [
           {
            "marker": {
             "line": {
              "color": "#E5ECF6",
              "width": 0.5
             },
             "pattern": {
              "fillmode": "overlay",
              "size": 10,
              "solidity": 0.2
             }
            },
            "type": "barpolar"
           }
          ],
          "carpet": [
           {
            "aaxis": {
             "endlinecolor": "#2a3f5f",
             "gridcolor": "white",
             "linecolor": "white",
             "minorgridcolor": "white",
             "startlinecolor": "#2a3f5f"
            },
            "baxis": {
             "endlinecolor": "#2a3f5f",
             "gridcolor": "white",
             "linecolor": "white",
             "minorgridcolor": "white",
             "startlinecolor": "#2a3f5f"
            },
            "type": "carpet"
           }
          ],
          "choropleth": [
           {
            "colorbar": {
             "outlinewidth": 0,
             "ticks": ""
            },
            "type": "choropleth"
           }
          ],
          "contour": [
           {
            "colorbar": {
             "outlinewidth": 0,
             "ticks": ""
            },
            "colorscale": [
             [
              0,
              "#0d0887"
             ],
             [
              0.1111111111111111,
              "#46039f"
             ],
             [
              0.2222222222222222,
              "#7201a8"
             ],
             [
              0.3333333333333333,
              "#9c179e"
             ],
             [
              0.4444444444444444,
              "#bd3786"
             ],
             [
              0.5555555555555556,
              "#d8576b"
             ],
             [
              0.6666666666666666,
              "#ed7953"
             ],
             [
              0.7777777777777778,
              "#fb9f3a"
             ],
             [
              0.8888888888888888,
              "#fdca26"
             ],
             [
              1,
              "#f0f921"
             ]
            ],
            "type": "contour"
           }
          ],
          "contourcarpet": [
           {
            "colorbar": {
             "outlinewidth": 0,
             "ticks": ""
            },
            "type": "contourcarpet"
           }
          ],
          "heatmap": [
           {
            "colorbar": {
             "outlinewidth": 0,
             "ticks": ""
            },
            "colorscale": [
             [
              0,
              "#0d0887"
             ],
             [
              0.1111111111111111,
              "#46039f"
             ],
             [
              0.2222222222222222,
              "#7201a8"
             ],
             [
              0.3333333333333333,
              "#9c179e"
             ],
             [
              0.4444444444444444,
              "#bd3786"
             ],
             [
              0.5555555555555556,
              "#d8576b"
             ],
             [
              0.6666666666666666,
              "#ed7953"
             ],
             [
              0.7777777777777778,
              "#fb9f3a"
             ],
             [
              0.8888888888888888,
              "#fdca26"
             ],
             [
              1,
              "#f0f921"
             ]
            ],
            "type": "heatmap"
           }
          ],
          "heatmapgl": [
           {
            "colorbar": {
             "outlinewidth": 0,
             "ticks": ""
            },
            "colorscale": [
             [
              0,
              "#0d0887"
             ],
             [
              0.1111111111111111,
              "#46039f"
             ],
             [
              0.2222222222222222,
              "#7201a8"
             ],
             [
              0.3333333333333333,
              "#9c179e"
             ],
             [
              0.4444444444444444,
              "#bd3786"
             ],
             [
              0.5555555555555556,
              "#d8576b"
             ],
             [
              0.6666666666666666,
              "#ed7953"
             ],
             [
              0.7777777777777778,
              "#fb9f3a"
             ],
             [
              0.8888888888888888,
              "#fdca26"
             ],
             [
              1,
              "#f0f921"
             ]
            ],
            "type": "heatmapgl"
           }
          ],
          "histogram": [
           {
            "marker": {
             "pattern": {
              "fillmode": "overlay",
              "size": 10,
              "solidity": 0.2
             }
            },
            "type": "histogram"
           }
          ],
          "histogram2d": [
           {
            "colorbar": {
             "outlinewidth": 0,
             "ticks": ""
            },
            "colorscale": [
             [
              0,
              "#0d0887"
             ],
             [
              0.1111111111111111,
              "#46039f"
             ],
             [
              0.2222222222222222,
              "#7201a8"
             ],
             [
              0.3333333333333333,
              "#9c179e"
             ],
             [
              0.4444444444444444,
              "#bd3786"
             ],
             [
              0.5555555555555556,
              "#d8576b"
             ],
             [
              0.6666666666666666,
              "#ed7953"
             ],
             [
              0.7777777777777778,
              "#fb9f3a"
             ],
             [
              0.8888888888888888,
              "#fdca26"
             ],
             [
              1,
              "#f0f921"
             ]
            ],
            "type": "histogram2d"
           }
          ],
          "histogram2dcontour": [
           {
            "colorbar": {
             "outlinewidth": 0,
             "ticks": ""
            },
            "colorscale": [
             [
              0,
              "#0d0887"
             ],
             [
              0.1111111111111111,
              "#46039f"
             ],
             [
              0.2222222222222222,
              "#7201a8"
             ],
             [
              0.3333333333333333,
              "#9c179e"
             ],
             [
              0.4444444444444444,
              "#bd3786"
             ],
             [
              0.5555555555555556,
              "#d8576b"
             ],
             [
              0.6666666666666666,
              "#ed7953"
             ],
             [
              0.7777777777777778,
              "#fb9f3a"
             ],
             [
              0.8888888888888888,
              "#fdca26"
             ],
             [
              1,
              "#f0f921"
             ]
            ],
            "type": "histogram2dcontour"
           }
          ],
          "mesh3d": [
           {
            "colorbar": {
             "outlinewidth": 0,
             "ticks": ""
            },
            "type": "mesh3d"
           }
          ],
          "parcoords": [
           {
            "line": {
             "colorbar": {
              "outlinewidth": 0,
              "ticks": ""
             }
            },
            "type": "parcoords"
           }
          ],
          "pie": [
           {
            "automargin": true,
            "type": "pie"
           }
          ],
          "scatter": [
           {
            "fillpattern": {
             "fillmode": "overlay",
             "size": 10,
             "solidity": 0.2
            },
            "type": "scatter"
           }
          ],
          "scatter3d": [
           {
            "line": {
             "colorbar": {
              "outlinewidth": 0,
              "ticks": ""
             }
            },
            "marker": {
             "colorbar": {
              "outlinewidth": 0,
              "ticks": ""
             }
            },
            "type": "scatter3d"
           }
          ],
          "scattercarpet": [
           {
            "marker": {
             "colorbar": {
              "outlinewidth": 0,
              "ticks": ""
             }
            },
            "type": "scattercarpet"
           }
          ],
          "scattergeo": [
           {
            "marker": {
             "colorbar": {
              "outlinewidth": 0,
              "ticks": ""
             }
            },
            "type": "scattergeo"
           }
          ],
          "scattergl": [
           {
            "marker": {
             "colorbar": {
              "outlinewidth": 0,
              "ticks": ""
             }
            },
            "type": "scattergl"
           }
          ],
          "scattermapbox": [
           {
            "marker": {
             "colorbar": {
              "outlinewidth": 0,
              "ticks": ""
             }
            },
            "type": "scattermapbox"
           }
          ],
          "scatterpolar": [
           {
            "marker": {
             "colorbar": {
              "outlinewidth": 0,
              "ticks": ""
             }
            },
            "type": "scatterpolar"
           }
          ],
          "scatterpolargl": [
           {
            "marker": {
             "colorbar": {
              "outlinewidth": 0,
              "ticks": ""
             }
            },
            "type": "scatterpolargl"
           }
          ],
          "scatterternary": [
           {
            "marker": {
             "colorbar": {
              "outlinewidth": 0,
              "ticks": ""
             }
            },
            "type": "scatterternary"
           }
          ],
          "surface": [
           {
            "colorbar": {
             "outlinewidth": 0,
             "ticks": ""
            },
            "colorscale": [
             [
              0,
              "#0d0887"
             ],
             [
              0.1111111111111111,
              "#46039f"
             ],
             [
              0.2222222222222222,
              "#7201a8"
             ],
             [
              0.3333333333333333,
              "#9c179e"
             ],
             [
              0.4444444444444444,
              "#bd3786"
             ],
             [
              0.5555555555555556,
              "#d8576b"
             ],
             [
              0.6666666666666666,
              "#ed7953"
             ],
             [
              0.7777777777777778,
              "#fb9f3a"
             ],
             [
              0.8888888888888888,
              "#fdca26"
             ],
             [
              1,
              "#f0f921"
             ]
            ],
            "type": "surface"
           }
          ],
          "table": [
           {
            "cells": {
             "fill": {
              "color": "#EBF0F8"
             },
             "line": {
              "color": "white"
             }
            },
            "header": {
             "fill": {
              "color": "#C8D4E3"
             },
             "line": {
              "color": "white"
             }
            },
            "type": "table"
           }
          ]
         },
         "layout": {
          "annotationdefaults": {
           "arrowcolor": "#2a3f5f",
           "arrowhead": 0,
           "arrowwidth": 1
          },
          "autotypenumbers": "strict",
          "coloraxis": {
           "colorbar": {
            "outlinewidth": 0,
            "ticks": ""
           }
          },
          "colorscale": {
           "diverging": [
            [
             0,
             "#8e0152"
            ],
            [
             0.1,
             "#c51b7d"
            ],
            [
             0.2,
             "#de77ae"
            ],
            [
             0.3,
             "#f1b6da"
            ],
            [
             0.4,
             "#fde0ef"
            ],
            [
             0.5,
             "#f7f7f7"
            ],
            [
             0.6,
             "#e6f5d0"
            ],
            [
             0.7,
             "#b8e186"
            ],
            [
             0.8,
             "#7fbc41"
            ],
            [
             0.9,
             "#4d9221"
            ],
            [
             1,
             "#276419"
            ]
           ],
           "sequential": [
            [
             0,
             "#0d0887"
            ],
            [
             0.1111111111111111,
             "#46039f"
            ],
            [
             0.2222222222222222,
             "#7201a8"
            ],
            [
             0.3333333333333333,
             "#9c179e"
            ],
            [
             0.4444444444444444,
             "#bd3786"
            ],
            [
             0.5555555555555556,
             "#d8576b"
            ],
            [
             0.6666666666666666,
             "#ed7953"
            ],
            [
             0.7777777777777778,
             "#fb9f3a"
            ],
            [
             0.8888888888888888,
             "#fdca26"
            ],
            [
             1,
             "#f0f921"
            ]
           ],
           "sequentialminus": [
            [
             0,
             "#0d0887"
            ],
            [
             0.1111111111111111,
             "#46039f"
            ],
            [
             0.2222222222222222,
             "#7201a8"
            ],
            [
             0.3333333333333333,
             "#9c179e"
            ],
            [
             0.4444444444444444,
             "#bd3786"
            ],
            [
             0.5555555555555556,
             "#d8576b"
            ],
            [
             0.6666666666666666,
             "#ed7953"
            ],
            [
             0.7777777777777778,
             "#fb9f3a"
            ],
            [
             0.8888888888888888,
             "#fdca26"
            ],
            [
             1,
             "#f0f921"
            ]
           ]
          },
          "colorway": [
           "#636efa",
           "#EF553B",
           "#00cc96",
           "#ab63fa",
           "#FFA15A",
           "#19d3f3",
           "#FF6692",
           "#B6E880",
           "#FF97FF",
           "#FECB52"
          ],
          "font": {
           "color": "#2a3f5f"
          },
          "geo": {
           "bgcolor": "white",
           "lakecolor": "white",
           "landcolor": "#E5ECF6",
           "showlakes": true,
           "showland": true,
           "subunitcolor": "white"
          },
          "hoverlabel": {
           "align": "left"
          },
          "hovermode": "closest",
          "mapbox": {
           "style": "light"
          },
          "paper_bgcolor": "white",
          "plot_bgcolor": "#E5ECF6",
          "polar": {
           "angularaxis": {
            "gridcolor": "white",
            "linecolor": "white",
            "ticks": ""
           },
           "bgcolor": "#E5ECF6",
           "radialaxis": {
            "gridcolor": "white",
            "linecolor": "white",
            "ticks": ""
           }
          },
          "scene": {
           "xaxis": {
            "backgroundcolor": "#E5ECF6",
            "gridcolor": "white",
            "gridwidth": 2,
            "linecolor": "white",
            "showbackground": true,
            "ticks": "",
            "zerolinecolor": "white"
           },
           "yaxis": {
            "backgroundcolor": "#E5ECF6",
            "gridcolor": "white",
            "gridwidth": 2,
            "linecolor": "white",
            "showbackground": true,
            "ticks": "",
            "zerolinecolor": "white"
           },
           "zaxis": {
            "backgroundcolor": "#E5ECF6",
            "gridcolor": "white",
            "gridwidth": 2,
            "linecolor": "white",
            "showbackground": true,
            "ticks": "",
            "zerolinecolor": "white"
           }
          },
          "shapedefaults": {
           "line": {
            "color": "#2a3f5f"
           }
          },
          "ternary": {
           "aaxis": {
            "gridcolor": "white",
            "linecolor": "white",
            "ticks": ""
           },
           "baxis": {
            "gridcolor": "white",
            "linecolor": "white",
            "ticks": ""
           },
           "bgcolor": "#E5ECF6",
           "caxis": {
            "gridcolor": "white",
            "linecolor": "white",
            "ticks": ""
           }
          },
          "title": {
           "x": 0.05
          },
          "xaxis": {
           "automargin": true,
           "gridcolor": "white",
           "linecolor": "white",
           "ticks": "",
           "title": {
            "standoff": 15
           },
           "zerolinecolor": "white",
           "zerolinewidth": 2
          },
          "yaxis": {
           "automargin": true,
           "gridcolor": "white",
           "linecolor": "white",
           "ticks": "",
           "title": {
            "standoff": 15
           },
           "zerolinecolor": "white",
           "zerolinewidth": 2
          }
         }
        },
        "title": {
         "text": "Cybersecurity Risk Explained by Time (per Industry)"
        },
        "width": 1400,
        "xaxis": {
         "anchor": "y",
         "autorange": true,
         "domain": [
          0,
          1
         ],
         "range": [
          2014.5,
          2022.5
         ],
         "title": {
          "text": "Year"
         },
         "type": "linear"
        },
        "yaxis": {
         "anchor": "x",
         "autorange": true,
         "domain": [
          0,
          1
         ],
         "range": [
          -0.010162067684809022,
          0.04631580061188055
         ],
         "title": {
          "text": "Average Industry Risk Ratio"
         },
         "type": "linear"
        }
       }
      },
      "image/png": "[encoded data removed]",
      "text/html": [
       "<div>                            <div id=\"e472c5f1-875c-4659-aef7-9ba3c5405612\" class=\"plotly-graph-div\" style=\"height:575px; width:1400px;\"></div>            <script type=\"text/javascript\">                require([\"plotly\"], function(Plotly) {                    window.PLOTLYENV=window.PLOTLYENV || {};                                    if (document.getElementById(\"e472c5f1-875c-4659-aef7-9ba3c5405612\")) {                    Plotly.newPlot(                        \"e472c5f1-875c-4659-aef7-9ba3c5405612\",                        [{\"alignmentgroup\":\"True\",\"error_y\":{\"array\":[0.00666215217077545,0.005733019000246768,0.005096953126371779,0.012163885539209817,0.00781696632549407,0.007211804114098331,0.00686072143552703,0.006355946036081762]},\"hovertemplate\":\"industry=Agriculture, Forestry, and Fishing\\u003cbr\\u003eyear=%{x}\\u003cbr\\u003ecompany_risk_ratio_average=%{y}\\u003cextra\\u003e\\u003c\\u002fextra\\u003e\",\"legendgroup\":\"Agriculture, Forestry, and Fishing\",\"marker\":{\"color\":\"#636efa\",\"pattern\":{\"shape\":\"\"}},\"name\":\"Agriculture, Forestry, and Fishing\",\"offsetgroup\":\"Agriculture, Forestry, and Fishing\",\"orientation\":\"v\",\"showlegend\":true,\"textposition\":\"auto\",\"x\":[2015,2016,2017,2018,2019,2020,2021,2022],\"xaxis\":\"x\",\"y\":[0.005447272774669793,0.007564217597826565,0.009400190037470016,0.011224033301434622,0.012009422217240042,0.012400575474104057,0.01297658402568388,0.013425136453012703],\"yaxis\":\"y\",\"type\":\"bar\"},{\"alignmentgroup\":\"True\",\"error_y\":{\"array\":[0.005494765706469598,0.006354212547479259,0.0035342280583214604,0.006702212713048955,0.007629538145768232,0.011583430188100428,0.010006260968862882,0.010491675804015933]},\"hovertemplate\":\"industry=Mining\\u003cbr\\u003eyear=%{x}\\u003cbr\\u003ecompany_risk_ratio_average=%{y}\\u003cextra\\u003e\\u003c\\u002fextra\\u003e\",\"legendgroup\":\"Mining\",\"marker\":{\"color\":\"#EF553B\",\"pattern\":{\"shape\":\"\"}},\"name\":\"Mining\",\"offsetgroup\":\"Mining\",\"orientation\":\"v\",\"showlegend\":true,\"textposition\":\"auto\",\"x\":[2015,2016,2017,2018,2019,2020,2021,2022],\"xaxis\":\"x\",\"y\":[0.00464602974178183,0.008867604606655062,0.0038647774413272454,0.010358693778370832,0.010118432122829538,0.010957221414697058,0.014115090865801191,0.01705368101275457],\"yaxis\":\"y\",\"type\":\"bar\"},{\"alignmentgroup\":\"True\",\"error_y\":{\"array\":[0.00241958980379284,0.0031504574047548513,0.004296731133603179,0.005742788040771649,0.005262326890395766,0.00523959689403062,0.005186150552460386,0.007081310607331354]},\"hovertemplate\":\"industry=Construction\\u003cbr\\u003eyear=%{x}\\u003cbr\\u003ecompany_risk_ratio_average=%{y}\\u003cextra\\u003e\\u003c\\u002fextra\\u003e\",\"legendgroup\":\"Construction\",\"marker\":{\"color\":\"#00cc96\",\"pattern\":{\"shape\":\"\"}},\"name\":\"Construction\",\"offsetgroup\":\"Construction\",\"orientation\":\"v\",\"showlegend\":true,\"textposition\":\"auto\",\"x\":[2015,2016,2017,2018,2019,2020,2021,2022],\"xaxis\":\"x\",\"y\":[0.00289920084170408,0.004315419888357559,0.004105422766976051,0.0050690399674806624,0.006147295991785591,0.007780278953371948,0.013098319409066514,0.01414813418288537],\"yaxis\":\"y\",\"type\":\"bar\"},{\"alignmentgroup\":\"True\",\"error_y\":{\"array\":[0.005483318242240344,0.0027444727664306954,0.00564989361026767,0.019391577578676943,0.009319328912331126,0.01593415332523488,0.00964604812138707,0.007216980138664978]},\"hovertemplate\":\"industry=Manufacturing\\u003cbr\\u003eyear=%{x}\\u003cbr\\u003ecompany_risk_ratio_average=%{y}\\u003cextra\\u003e\\u003c\\u002fextra\\u003e\",\"legendgroup\":\"Manufacturing\",\"marker\":{\"color\":\"#ab63fa\",\"pattern\":{\"shape\":\"\"}},\"name\":\"Manufacturing\",\"offsetgroup\":\"Manufacturing\",\"orientation\":\"v\",\"showlegend\":true,\"textposition\":\"auto\",\"x\":[2015,2016,2017,2018,2019,2020,2021,2022],\"xaxis\":\"x\",\"y\":[0.00515459018919569,0.005153809767368538,0.005356278122923642,0.013248970333924023,0.010490329901319009,0.008595979055260336,0.01121874793437661,0.007873870079880435],\"yaxis\":\"y\",\"type\":\"bar\"},{\"alignmentgroup\":\"True\",\"error_y\":{\"array\":[0.00813870884268829,0.0072103266347856325,0.013854921592267696,0.014804166478741634,0.009299038993392536,0.0063898060612252745,0.013924718376654934,0.02071493123183222]},\"hovertemplate\":\"industry=Transportation and other Utilities\\u003cbr\\u003eyear=%{x}\\u003cbr\\u003ecompany_risk_ratio_average=%{y}\\u003cextra\\u003e\\u003c\\u002fextra\\u003e\",\"legendgroup\":\"Transportation and other Utilities\",\"marker\":{\"color\":\"#FFA15A\",\"pattern\":{\"shape\":\"\"}},\"name\":\"Transportation and other Utilities\",\"offsetgroup\":\"Transportation and other Utilities\",\"orientation\":\"v\",\"showlegend\":true,\"textposition\":\"auto\",\"x\":[2015,2016,2017,2018,2019,2020,2021,2022],\"xaxis\":\"x\",\"y\":[0.008062067947065581,0.006441426677858006,0.012848602836428935,0.01490875849485954,0.01331294759725305,0.009364029556119442,0.013700633454296882,0.018840473147418994],\"yaxis\":\"y\",\"type\":\"bar\"},{\"alignmentgroup\":\"True\",\"error_y\":{\"array\":[0.011604236177416818,0.00573807134782695,0.016112338139663448,0.009320027347242028,0.007164158879845681,0.007965428154843667,0.008315942964585276,0.011311571045145552]},\"hovertemplate\":\"industry=Wholesale Trade\\u003cbr\\u003eyear=%{x}\\u003cbr\\u003ecompany_risk_ratio_average=%{y}\\u003cextra\\u003e\\u003c\\u002fextra\\u003e\",\"legendgroup\":\"Wholesale Trade\",\"marker\":{\"color\":\"#19d3f3\",\"pattern\":{\"shape\":\"\"}},\"name\":\"Wholesale Trade\",\"offsetgroup\":\"Wholesale Trade\",\"orientation\":\"v\",\"showlegend\":true,\"textposition\":\"auto\",\"x\":[2015,2016,2017,2018,2019,2020,2021,2022],\"xaxis\":\"x\",\"y\":[0.008150120924607492,0.006826827866715674,0.011477154971891095,0.009727055252011613,0.016604578674407657,0.007406430222439704,0.012644155904214818,0.014521067374861784],\"yaxis\":\"y\",\"type\":\"bar\"},{\"alignmentgroup\":\"True\",\"error_y\":{\"array\":[0.004972422454178382,0.006433163864721213,0.010397863846256393,0.011251307179841127,0.018459036452818663,0.01898737451208713,0.016128497437773132,0.00566554877815346]},\"hovertemplate\":\"industry=Retail Trade\\u003cbr\\u003eyear=%{x}\\u003cbr\\u003ecompany_risk_ratio_average=%{y}\\u003cextra\\u003e\\u003c\\u002fextra\\u003e\",\"legendgroup\":\"Retail Trade\",\"marker\":{\"color\":\"#FF6692\",\"pattern\":{\"shape\":\"\"}},\"name\":\"Retail Trade\",\"offsetgroup\":\"Retail Trade\",\"orientation\":\"v\",\"showlegend\":true,\"textposition\":\"auto\",\"x\":[2015,2016,2017,2018,2019,2020,2021,2022],\"xaxis\":\"x\",\"y\":[0.005868523840165183,0.007622712448756915,0.008562609483251713,0.011752331454227041,0.015062834390790886,0.018907718120683977,0.019103152234676835,0.008120619424402292],\"yaxis\":\"y\",\"type\":\"bar\"},{\"alignmentgroup\":\"True\",\"error_y\":{\"array\":[0.013678703362135324,0.007695849480359278,0.007865429396144057,0.011268282894526723,0.014710061237080078,0.020932113548926524,0.011521217588250905,0.008155135580729037]},\"hovertemplate\":\"industry=Finance, Insurance, and Real Estate\\u003cbr\\u003eyear=%{x}\\u003cbr\\u003ecompany_risk_ratio_average=%{y}\\u003cextra\\u003e\\u003c\\u002fextra\\u003e\",\"legendgroup\":\"Finance, Insurance, and Real Estate\",\"marker\":{\"color\":\"#B6E880\",\"pattern\":{\"shape\":\"\"}},\"name\":\"Finance, Insurance, and Real Estate\",\"offsetgroup\":\"Finance, Insurance, and Real Estate\",\"orientation\":\"v\",\"showlegend\":true,\"textposition\":\"auto\",\"x\":[2015,2016,2017,2018,2019,2020,2021,2022],\"xaxis\":\"x\",\"y\":[0.008062409653260027,0.009905203041708884,0.012419168419899828,0.014402352607377183,0.015005491334799509,0.022559793648119542,0.016357479794841805,0.01559428800985747],\"yaxis\":\"y\",\"type\":\"bar\"},{\"alignmentgroup\":\"True\",\"error_y\":{\"array\":[0.006840463232361317,0.009113994121933963,0.009430492790699678,0.007245136787566546,0.009317652426407034,0.007246185216827387,0.014193217606185556,0.0068323668934303205]},\"hovertemplate\":\"industry=Services\\u003cbr\\u003eyear=%{x}\\u003cbr\\u003ecompany_risk_ratio_average=%{y}\\u003cextra\\u003e\\u003c\\u002fextra\\u003e\",\"legendgroup\":\"Services\",\"marker\":{\"color\":\"#FF97FF\",\"pattern\":{\"shape\":\"\"}},\"name\":\"Services\",\"offsetgroup\":\"Services\",\"orientation\":\"v\",\"showlegend\":true,\"textposition\":\"auto\",\"x\":[2015,2016,2017,2018,2019,2020,2021,2022],\"xaxis\":\"x\",\"y\":[0.007309924883268891,0.01447670980909076,0.010209653869102797,0.00662884142933125,0.009995395185877012,0.012107231027791954,0.022240469250091467,0.010605492258891167],\"yaxis\":\"y\",\"type\":\"bar\"},{\"alignmentgroup\":\"True\",\"error_y\":{\"array\":[0.007348030887785097,0.004667083624916829,0.012648918123835584,0.001510413090778025,0.0016593395524022567,0.0018115415075336658,0.008946337136106685,0.004923648444430547]},\"hovertemplate\":\"industry=Public Administration\\u003cbr\\u003eyear=%{x}\\u003cbr\\u003ecompany_risk_ratio_average=%{y}\\u003cextra\\u003e\\u003c\\u002fextra\\u003e\",\"legendgroup\":\"Public Administration\",\"marker\":{\"color\":\"#FECB52\",\"pattern\":{\"shape\":\"\"}},\"name\":\"Public Administration\",\"offsetgroup\":\"Public Administration\",\"orientation\":\"v\",\"showlegend\":true,\"textposition\":\"auto\",\"x\":[2015,2016,2017,2018,2019,2020,2021,2022],\"xaxis\":\"x\",\"y\":[0.003378248119809124,0.0023253314592535613,0.007345344258853535,0.0007134326283262454,0.0009592423085126957,0.0013331629102922757,0.007930315362670018,0.004524473956844945],\"yaxis\":\"y\",\"type\":\"bar\"}],                        {\"template\":{\"data\":{\"histogram2dcontour\":[{\"type\":\"histogram2dcontour\",\"colorbar\":{\"outlinewidth\":0,\"ticks\":\"\"},\"colorscale\":[[0.0,\"#0d0887\"],[0.1111111111111111,\"#46039f\"],[0.2222222222222222,\"#7201a8\"],[0.3333333333333333,\"#9c179e\"],[0.4444444444444444,\"#bd3786\"],[0.5555555555555556,\"#d8576b\"],[0.6666666666666666,\"#ed7953\"],[0.7777777777777778,\"#fb9f3a\"],[0.8888888888888888,\"#fdca26\"],[1.0,\"#f0f921\"]]}],\"choropleth\":[{\"type\":\"choropleth\",\"colorbar\":{\"outlinewidth\":0,\"ticks\":\"\"}}],\"histogram2d\":[{\"type\":\"histogram2d\",\"colorbar\":{\"outlinewidth\":0,\"ticks\":\"\"},\"colorscale\":[[0.0,\"#0d0887\"],[0.1111111111111111,\"#46039f\"],[0.2222222222222222,\"#7201a8\"],[0.3333333333333333,\"#9c179e\"],[0.4444444444444444,\"#bd3786\"],[0.5555555555555556,\"#d8576b\"],[0.6666666666666666,\"#ed7953\"],[0.7777777777777778,\"#fb9f3a\"],[0.8888888888888888,\"#fdca26\"],[1.0,\"#f0f921\"]]}],\"heatmap\":[{\"type\":\"heatmap\",\"colorbar\":{\"outlinewidth\":0,\"ticks\":\"\"},\"colorscale\":[[0.0,\"#0d0887\"],[0.1111111111111111,\"#46039f\"],[0.2222222222222222,\"#7201a8\"],[0.3333333333333333,\"#9c179e\"],[0.4444444444444444,\"#bd3786\"],[0.5555555555555556,\"#d8576b\"],[0.6666666666666666,\"#ed7953\"],[0.7777777777777778,\"#fb9f3a\"],[0.8888888888888888,\"#fdca26\"],[1.0,\"#f0f921\"]]}],\"heatmapgl\":[{\"type\":\"heatmapgl\",\"colorbar\":{\"outlinewidth\":0,\"ticks\":\"\"},\"colorscale\":[[0.0,\"#0d0887\"],[0.1111111111111111,\"#46039f\"],[0.2222222222222222,\"#7201a8\"],[0.3333333333333333,\"#9c179e\"],[0.4444444444444444,\"#bd3786\"],[0.5555555555555556,\"#d8576b\"],[0.6666666666666666,\"#ed7953\"],[0.7777777777777778,\"#fb9f3a\"],[0.8888888888888888,\"#fdca26\"],[1.0,\"#f0f921\"]]}],\"contourcarpet\":[{\"type\":\"contourcarpet\",\"colorbar\":{\"outlinewidth\":0,\"ticks\":\"\"}}],\"contour\":[{\"type\":\"contour\",\"colorbar\":{\"outlinewidth\":0,\"ticks\":\"\"},\"colorscale\":[[0.0,\"#0d0887\"],[0.1111111111111111,\"#46039f\"],[0.2222222222222222,\"#7201a8\"],[0.3333333333333333,\"#9c179e\"],[0.4444444444444444,\"#bd3786\"],[0.5555555555555556,\"#d8576b\"],[0.6666666666666666,\"#ed7953\"],[0.7777777777777778,\"#fb9f3a\"],[0.8888888888888888,\"#fdca26\"],[1.0,\"#f0f921\"]]}],\"surface\":[{\"type\":\"surface\",\"colorbar\":{\"outlinewidth\":0,\"ticks\":\"\"},\"colorscale\":[[0.0,\"#0d0887\"],[0.1111111111111111,\"#46039f\"],[0.2222222222222222,\"#7201a8\"],[0.3333333333333333,\"#9c179e\"],[0.4444444444444444,\"#bd3786\"],[0.5555555555555556,\"#d8576b\"],[0.6666666666666666,\"#ed7953\"],[0.7777777777777778,\"#fb9f3a\"],[0.8888888888888888,\"#fdca26\"],[1.0,\"#f0f921\"]]}],\"mesh3d\":[{\"type\":\"mesh3d\",\"colorbar\":{\"outlinewidth\":0,\"ticks\":\"\"}}],\"scatter\":[{\"fillpattern\":{\"fillmode\":\"overlay\",\"size\":10,\"solidity\":0.2},\"type\":\"scatter\"}],\"parcoords\":[{\"type\":\"parcoords\",\"line\":{\"colorbar\":{\"outlinewidth\":0,\"ticks\":\"\"}}}],\"scatterpolargl\":[{\"type\":\"scatterpolargl\",\"marker\":{\"colorbar\":{\"outlinewidth\":0,\"ticks\":\"\"}}}],\"bar\":[{\"error_x\":{\"color\":\"#2a3f5f\"},\"error_y\":{\"color\":\"#2a3f5f\"},\"marker\":{\"line\":{\"color\":\"#E5ECF6\",\"width\":0.5},\"pattern\":{\"fillmode\":\"overlay\",\"size\":10,\"solidity\":0.2}},\"type\":\"bar\"}],\"scattergeo\":[{\"type\":\"scattergeo\",\"marker\":{\"colorbar\":{\"outlinewidth\":0,\"ticks\":\"\"}}}],\"scatterpolar\":[{\"type\":\"scatterpolar\",\"marker\":{\"colorbar\":{\"outlinewidth\":0,\"ticks\":\"\"}}}],\"histogram\":[{\"marker\":{\"pattern\":{\"fillmode\":\"overlay\",\"size\":10,\"solidity\":0.2}},\"type\":\"histogram\"}],\"scattergl\":[{\"type\":\"scattergl\",\"marker\":{\"colorbar\":{\"outlinewidth\":0,\"ticks\":\"\"}}}],\"scatter3d\":[{\"type\":\"scatter3d\",\"line\":{\"colorbar\":{\"outlinewidth\":0,\"ticks\":\"\"}},\"marker\":{\"colorbar\":{\"outlinewidth\":0,\"ticks\":\"\"}}}],\"scattermapbox\":[{\"type\":\"scattermapbox\",\"marker\":{\"colorbar\":{\"outlinewidth\":0,\"ticks\":\"\"}}}],\"scatterternary\":[{\"type\":\"scatterternary\",\"marker\":{\"colorbar\":{\"outlinewidth\":0,\"ticks\":\"\"}}}],\"scattercarpet\":[{\"type\":\"scattercarpet\",\"marker\":{\"colorbar\":{\"outlinewidth\":0,\"ticks\":\"\"}}}],\"carpet\":[{\"aaxis\":{\"endlinecolor\":\"#2a3f5f\",\"gridcolor\":\"white\",\"linecolor\":\"white\",\"minorgridcolor\":\"white\",\"startlinecolor\":\"#2a3f5f\"},\"baxis\":{\"endlinecolor\":\"#2a3f5f\",\"gridcolor\":\"white\",\"linecolor\":\"white\",\"minorgridcolor\":\"white\",\"startlinecolor\":\"#2a3f5f\"},\"type\":\"carpet\"}],\"table\":[{\"cells\":{\"fill\":{\"color\":\"#EBF0F8\"},\"line\":{\"color\":\"white\"}},\"header\":{\"fill\":{\"color\":\"#C8D4E3\"},\"line\":{\"color\":\"white\"}},\"type\":\"table\"}],\"barpolar\":[{\"marker\":{\"line\":{\"color\":\"#E5ECF6\",\"width\":0.5},\"pattern\":{\"fillmode\":\"overlay\",\"size\":10,\"solidity\":0.2}},\"type\":\"barpolar\"}],\"pie\":[{\"automargin\":true,\"type\":\"pie\"}]},\"layout\":{\"autotypenumbers\":\"strict\",\"colorway\":[\"#636efa\",\"#EF553B\",\"#00cc96\",\"#ab63fa\",\"#FFA15A\",\"#19d3f3\",\"#FF6692\",\"#B6E880\",\"#FF97FF\",\"#FECB52\"],\"font\":{\"color\":\"#2a3f5f\"},\"hovermode\":\"closest\",\"hoverlabel\":{\"align\":\"left\"},\"paper_bgcolor\":\"white\",\"plot_bgcolor\":\"#E5ECF6\",\"polar\":{\"bgcolor\":\"#E5ECF6\",\"angularaxis\":{\"gridcolor\":\"white\",\"linecolor\":\"white\",\"ticks\":\"\"},\"radialaxis\":{\"gridcolor\":\"white\",\"linecolor\":\"white\",\"ticks\":\"\"}},\"ternary\":{\"bgcolor\":\"#E5ECF6\",\"aaxis\":{\"gridcolor\":\"white\",\"linecolor\":\"white\",\"ticks\":\"\"},\"baxis\":{\"gridcolor\":\"white\",\"linecolor\":\"white\",\"ticks\":\"\"},\"caxis\":{\"gridcolor\":\"white\",\"linecolor\":\"white\",\"ticks\":\"\"}},\"coloraxis\":{\"colorbar\":{\"outlinewidth\":0,\"ticks\":\"\"}},\"colorscale\":{\"sequential\":[[0.0,\"#0d0887\"],[0.1111111111111111,\"#46039f\"],[0.2222222222222222,\"#7201a8\"],[0.3333333333333333,\"#9c179e\"],[0.4444444444444444,\"#bd3786\"],[0.5555555555555556,\"#d8576b\"],[0.6666666666666666,\"#ed7953\"],[0.7777777777777778,\"#fb9f3a\"],[0.8888888888888888,\"#fdca26\"],[1.0,\"#f0f921\"]],\"sequentialminus\":[[0.0,\"#0d0887\"],[0.1111111111111111,\"#46039f\"],[0.2222222222222222,\"#7201a8\"],[0.3333333333333333,\"#9c179e\"],[0.4444444444444444,\"#bd3786\"],[0.5555555555555556,\"#d8576b\"],[0.6666666666666666,\"#ed7953\"],[0.7777777777777778,\"#fb9f3a\"],[0.8888888888888888,\"#fdca26\"],[1.0,\"#f0f921\"]],\"diverging\":[[0,\"#8e0152\"],[0.1,\"#c51b7d\"],[0.2,\"#de77ae\"],[0.3,\"#f1b6da\"],[0.4,\"#fde0ef\"],[0.5,\"#f7f7f7\"],[0.6,\"#e6f5d0\"],[0.7,\"#b8e186\"],[0.8,\"#7fbc41\"],[0.9,\"#4d9221\"],[1,\"#276419\"]]},\"xaxis\":{\"gridcolor\":\"white\",\"linecolor\":\"white\",\"ticks\":\"\",\"title\":{\"standoff\":15},\"zerolinecolor\":\"white\",\"automargin\":true,\"zerolinewidth\":2},\"yaxis\":{\"gridcolor\":\"white\",\"linecolor\":\"white\",\"ticks\":\"\",\"title\":{\"standoff\":15},\"zerolinecolor\":\"white\",\"automargin\":true,\"zerolinewidth\":2},\"scene\":{\"xaxis\":{\"backgroundcolor\":\"#E5ECF6\",\"gridcolor\":\"white\",\"linecolor\":\"white\",\"showbackground\":true,\"ticks\":\"\",\"zerolinecolor\":\"white\",\"gridwidth\":2},\"yaxis\":{\"backgroundcolor\":\"#E5ECF6\",\"gridcolor\":\"white\",\"linecolor\":\"white\",\"showbackground\":true,\"ticks\":\"\",\"zerolinecolor\":\"white\",\"gridwidth\":2},\"zaxis\":{\"backgroundcolor\":\"#E5ECF6\",\"gridcolor\":\"white\",\"linecolor\":\"white\",\"showbackground\":true,\"ticks\":\"\",\"zerolinecolor\":\"white\",\"gridwidth\":2}},\"shapedefaults\":{\"line\":{\"color\":\"#2a3f5f\"}},\"annotationdefaults\":{\"arrowcolor\":\"#2a3f5f\",\"arrowhead\":0,\"arrowwidth\":1},\"geo\":{\"bgcolor\":\"white\",\"landcolor\":\"#E5ECF6\",\"subunitcolor\":\"white\",\"showland\":true,\"showlakes\":true,\"lakecolor\":\"white\"},\"title\":{\"x\":0.05},\"mapbox\":{\"style\":\"light\"}}},\"xaxis\":{\"anchor\":\"y\",\"domain\":[0.0,1.0],\"title\":{\"text\":\"Year\"}},\"yaxis\":{\"anchor\":\"x\",\"domain\":[0.0,1.0],\"title\":{\"text\":\"Average Industry Risk Ratio\"}},\"legend\":{\"title\":{\"text\":\"Industry\"},\"tracegroupgap\":0},\"title\":{\"text\":\"Cybersecurity Risk Explained by Time (per Industry)\"},\"barmode\":\"group\",\"height\":575,\"width\":1400},                        {\"responsive\": true}                    ).then(function(){\n",
       "                            \n",
       "var gd = document.getElementById('e472c5f1-875c-4659-aef7-9ba3c5405612');\n",
       "var x = new MutationObserver(function (mutations, observer) {{\n",
       "        var display = window.getComputedStyle(gd).display;\n",
       "        if (!display || display === 'none') {{\n",
       "            console.log([gd, 'removed!']);\n",
       "            Plotly.purge(gd);\n",
       "            observer.disconnect();\n",
       "        }}\n",
       "}});\n",
       "\n",
       "// Listen for the removal of the full notebook cells\n",
       "var notebookContainer = gd.closest('#notebook-container');\n",
       "if (notebookContainer) {{\n",
       "    x.observe(notebookContainer, {childList: true});\n",
       "}}\n",
       "\n",
       "// Listen for the clearing of the current output cell\n",
       "var outputEl = gd.closest('.output');\n",
       "if (outputEl) {{\n",
       "    x.observe(outputEl, {childList: true});\n",
       "}}\n",
       "\n",
       "                        })                };                });            </script>        </div>"
      ]
     },
     "metadata": {},
     "output_type": "display_data"
    }
   ],
   "source": [
    "fig = px.bar(\n",
    "    combined_company_df,\n",
    "    x = \"year\",\n",
    "    y = \"company_risk_ratio_average\",\n",
    "    error_y = \"company_risk_ratio_std\",\n",
    "    color = \"industry\",\n",
    "    barmode = \"group\",\n",
    "    title = \"Cybersecurity Risk Explained by Time (per Industry)\"\n",
    ")\n",
    "\n",
    "fig.update_layout(\n",
    "    xaxis_title = \"Year\",\n",
    "    yaxis_title = \"Average Industry Risk Ratio\",\n",
    "    legend_title = \"Industry\",\n",
    "    height = 575,\n",
    "    width = 1400\n",
    ")\n",
    "\n",
    "fig.show()"
   ]
  },
  {
   "cell_type": "code",
   "execution_count": 157,
   "id": "5bd53878-901f-4521-b518-e223a4b01553",
   "metadata": {},
   "outputs": [
    {
     "data": {
      "application/vnd.plotly.v1+json": {
       "config": {
        "plotlyServerURL": "https://plot.ly"
       },
       "data": [
        {
         "error_y": {
          "array": [
           0.00666215217077545,
           0.005733019000246768,
           0.005096953126371779,
           0.012163885539209817,
           0.00781696632549407,
           0.007211804114098331,
           0.00686072143552703,
           0.006355946036081762
          ]
         },
         "hovertemplate": "industry=Agriculture, Forestry, and Fishing<br>year=%{x}<br>company_risk_ratio_average=%{y}<extra></extra>",
         "legendgroup": "Agriculture, Forestry, and Fishing",
         "line": {
          "color": "#636efa",
          "dash": "solid"
         },
         "marker": {
          "symbol": "circle"
         },
         "mode": "lines",
         "name": "Agriculture, Forestry, and Fishing",
         "orientation": "v",
         "showlegend": true,
         "type": "scatter",
         "x": [
          2015,
          2016,
          2017,
          2018,
          2019,
          2020,
          2021,
          2022
         ],
         "xaxis": "x",
         "y": [
          0.005447272774669793,
          0.007564217597826565,
          0.009400190037470016,
          0.011224033301434622,
          0.012009422217240042,
          0.012400575474104057,
          0.01297658402568388,
          0.013425136453012703
         ],
         "yaxis": "y"
        },
        {
         "error_y": {
          "array": [
           0.005494765706469598,
           0.006354212547479259,
           0.0035342280583214604,
           0.006702212713048955,
           0.007629538145768232,
           0.011583430188100428,
           0.010006260968862882,
           0.010491675804015933
          ]
         },
         "hovertemplate": "industry=Mining<br>year=%{x}<br>company_risk_ratio_average=%{y}<extra></extra>",
         "legendgroup": "Mining",
         "line": {
          "color": "#EF553B",
          "dash": "solid"
         },
         "marker": {
          "symbol": "circle"
         },
         "mode": "lines",
         "name": "Mining",
         "orientation": "v",
         "showlegend": true,
         "type": "scatter",
         "x": [
          2015,
          2016,
          2017,
          2018,
          2019,
          2020,
          2021,
          2022
         ],
         "xaxis": "x",
         "y": [
          0.00464602974178183,
          0.008867604606655062,
          0.0038647774413272454,
          0.010358693778370832,
          0.010118432122829538,
          0.010957221414697058,
          0.014115090865801191,
          0.01705368101275457
         ],
         "yaxis": "y"
        },
        {
         "error_y": {
          "array": [
           0.00241958980379284,
           0.0031504574047548513,
           0.004296731133603179,
           0.005742788040771649,
           0.005262326890395766,
           0.00523959689403062,
           0.005186150552460386,
           0.007081310607331354
          ]
         },
         "hovertemplate": "industry=Construction<br>year=%{x}<br>company_risk_ratio_average=%{y}<extra></extra>",
         "legendgroup": "Construction",
         "line": {
          "color": "#00cc96",
          "dash": "solid"
         },
         "marker": {
          "symbol": "circle"
         },
         "mode": "lines",
         "name": "Construction",
         "orientation": "v",
         "showlegend": true,
         "type": "scatter",
         "x": [
          2015,
          2016,
          2017,
          2018,
          2019,
          2020,
          2021,
          2022
         ],
         "xaxis": "x",
         "y": [
          0.00289920084170408,
          0.004315419888357559,
          0.004105422766976051,
          0.0050690399674806624,
          0.006147295991785591,
          0.007780278953371948,
          0.013098319409066514,
          0.01414813418288537
         ],
         "yaxis": "y"
        },
        {
         "error_y": {
          "array": [
           0.005483318242240344,
           0.0027444727664306954,
           0.00564989361026767,
           0.019391577578676943,
           0.009319328912331126,
           0.01593415332523488,
           0.00964604812138707,
           0.007216980138664978
          ]
         },
         "hovertemplate": "industry=Manufacturing<br>year=%{x}<br>company_risk_ratio_average=%{y}<extra></extra>",
         "legendgroup": "Manufacturing",
         "line": {
          "color": "#ab63fa",
          "dash": "solid"
         },
         "marker": {
          "symbol": "circle"
         },
         "mode": "lines",
         "name": "Manufacturing",
         "orientation": "v",
         "showlegend": true,
         "type": "scatter",
         "x": [
          2015,
          2016,
          2017,
          2018,
          2019,
          2020,
          2021,
          2022
         ],
         "xaxis": "x",
         "y": [
          0.00515459018919569,
          0.005153809767368538,
          0.005356278122923642,
          0.013248970333924023,
          0.010490329901319009,
          0.008595979055260336,
          0.01121874793437661,
          0.007873870079880435
         ],
         "yaxis": "y"
        },
        {
         "error_y": {
          "array": [
           0.00813870884268829,
           0.0072103266347856325,
           0.013854921592267696,
           0.014804166478741634,
           0.009299038993392536,
           0.0063898060612252745,
           0.013924718376654934,
           0.02071493123183222
          ]
         },
         "hovertemplate": "industry=Transportation and other Utilities<br>year=%{x}<br>company_risk_ratio_average=%{y}<extra></extra>",
         "legendgroup": "Transportation and other Utilities",
         "line": {
          "color": "#FFA15A",
          "dash": "solid"
         },
         "marker": {
          "symbol": "circle"
         },
         "mode": "lines",
         "name": "Transportation and other Utilities",
         "orientation": "v",
         "showlegend": true,
         "type": "scatter",
         "x": [
          2015,
          2016,
          2017,
          2018,
          2019,
          2020,
          2021,
          2022
         ],
         "xaxis": "x",
         "y": [
          0.008062067947065581,
          0.006441426677858006,
          0.012848602836428935,
          0.01490875849485954,
          0.01331294759725305,
          0.009364029556119442,
          0.013700633454296882,
          0.018840473147418994
         ],
         "yaxis": "y"
        },
        {
         "error_y": {
          "array": [
           0.011604236177416818,
           0.00573807134782695,
           0.016112338139663448,
           0.009320027347242028,
           0.007164158879845681,
           0.007965428154843667,
           0.008315942964585276,
           0.011311571045145552
          ]
         },
         "hovertemplate": "industry=Wholesale Trade<br>year=%{x}<br>company_risk_ratio_average=%{y}<extra></extra>",
         "legendgroup": "Wholesale Trade",
         "line": {
          "color": "#19d3f3",
          "dash": "solid"
         },
         "marker": {
          "symbol": "circle"
         },
         "mode": "lines",
         "name": "Wholesale Trade",
         "orientation": "v",
         "showlegend": true,
         "type": "scatter",
         "x": [
          2015,
          2016,
          2017,
          2018,
          2019,
          2020,
          2021,
          2022
         ],
         "xaxis": "x",
         "y": [
          0.008150120924607492,
          0.006826827866715674,
          0.011477154971891095,
          0.009727055252011613,
          0.016604578674407657,
          0.007406430222439704,
          0.012644155904214818,
          0.014521067374861784
         ],
         "yaxis": "y"
        },
        {
         "error_y": {
          "array": [
           0.004972422454178382,
           0.006433163864721213,
           0.010397863846256393,
           0.011251307179841127,
           0.018459036452818663,
           0.01898737451208713,
           0.016128497437773132,
           0.00566554877815346
          ]
         },
         "hovertemplate": "industry=Retail Trade<br>year=%{x}<br>company_risk_ratio_average=%{y}<extra></extra>",
         "legendgroup": "Retail Trade",
         "line": {
          "color": "#FF6692",
          "dash": "solid"
         },
         "marker": {
          "symbol": "circle"
         },
         "mode": "lines",
         "name": "Retail Trade",
         "orientation": "v",
         "showlegend": true,
         "type": "scatter",
         "x": [
          2015,
          2016,
          2017,
          2018,
          2019,
          2020,
          2021,
          2022
         ],
         "xaxis": "x",
         "y": [
          0.005868523840165183,
          0.007622712448756915,
          0.008562609483251713,
          0.011752331454227041,
          0.015062834390790886,
          0.018907718120683977,
          0.019103152234676835,
          0.008120619424402292
         ],
         "yaxis": "y"
        },
        {
         "error_y": {
          "array": [
           0.013678703362135324,
           0.007695849480359278,
           0.007865429396144057,
           0.011268282894526723,
           0.014710061237080078,
           0.020932113548926524,
           0.011521217588250905,
           0.008155135580729037
          ]
         },
         "hovertemplate": "industry=Finance, Insurance, and Real Estate<br>year=%{x}<br>company_risk_ratio_average=%{y}<extra></extra>",
         "legendgroup": "Finance, Insurance, and Real Estate",
         "line": {
          "color": "#B6E880",
          "dash": "solid"
         },
         "marker": {
          "symbol": "circle"
         },
         "mode": "lines",
         "name": "Finance, Insurance, and Real Estate",
         "orientation": "v",
         "showlegend": true,
         "type": "scatter",
         "x": [
          2015,
          2016,
          2017,
          2018,
          2019,
          2020,
          2021,
          2022
         ],
         "xaxis": "x",
         "y": [
          0.008062409653260027,
          0.009905203041708884,
          0.012419168419899828,
          0.014402352607377183,
          0.015005491334799509,
          0.022559793648119542,
          0.016357479794841805,
          0.01559428800985747
         ],
         "yaxis": "y"
        },
        {
         "error_y": {
          "array": [
           0.006840463232361317,
           0.009113994121933963,
           0.009430492790699678,
           0.007245136787566546,
           0.009317652426407034,
           0.007246185216827387,
           0.014193217606185556,
           0.0068323668934303205
          ]
         },
         "hovertemplate": "industry=Services<br>year=%{x}<br>company_risk_ratio_average=%{y}<extra></extra>",
         "legendgroup": "Services",
         "line": {
          "color": "#FF97FF",
          "dash": "solid"
         },
         "marker": {
          "symbol": "circle"
         },
         "mode": "lines",
         "name": "Services",
         "orientation": "v",
         "showlegend": true,
         "type": "scatter",
         "x": [
          2015,
          2016,
          2017,
          2018,
          2019,
          2020,
          2021,
          2022
         ],
         "xaxis": "x",
         "y": [
          0.007309924883268891,
          0.01447670980909076,
          0.010209653869102797,
          0.00662884142933125,
          0.009995395185877012,
          0.012107231027791954,
          0.022240469250091467,
          0.010605492258891167
         ],
         "yaxis": "y"
        },
        {
         "error_y": {
          "array": [
           0.007348030887785097,
           0.004667083624916829,
           0.012648918123835584,
           0.001510413090778025,
           0.0016593395524022567,
           0.0018115415075336658,
           0.008946337136106685,
           0.004923648444430547
          ]
         },
         "hovertemplate": "industry=Public Administration<br>year=%{x}<br>company_risk_ratio_average=%{y}<extra></extra>",
         "legendgroup": "Public Administration",
         "line": {
          "color": "#FECB52",
          "dash": "solid"
         },
         "marker": {
          "symbol": "circle"
         },
         "mode": "lines",
         "name": "Public Administration",
         "orientation": "v",
         "showlegend": true,
         "type": "scatter",
         "x": [
          2015,
          2016,
          2017,
          2018,
          2019,
          2020,
          2021,
          2022
         ],
         "xaxis": "x",
         "y": [
          0.003378248119809124,
          0.0023253314592535613,
          0.007345344258853535,
          0.0007134326283262454,
          0.0009592423085126957,
          0.0013331629102922757,
          0.007930315362670018,
          0.004524473956844945
         ],
         "yaxis": "y"
        }
       ],
       "layout": {
        "autosize": true,
        "legend": {
         "title": {
          "text": "Industry"
         },
         "tracegroupgap": 0
        },
        "template": {
         "data": {
          "bar": [
           {
            "error_x": {
             "color": "#2a3f5f"
            },
            "error_y": {
             "color": "#2a3f5f"
            },
            "marker": {
             "line": {
              "color": "#E5ECF6",
              "width": 0.5
             },
             "pattern": {
              "fillmode": "overlay",
              "size": 10,
              "solidity": 0.2
             }
            },
            "type": "bar"
           }
          ],
          "barpolar": [
           {
            "marker": {
             "line": {
              "color": "#E5ECF6",
              "width": 0.5
             },
             "pattern": {
              "fillmode": "overlay",
              "size": 10,
              "solidity": 0.2
             }
            },
            "type": "barpolar"
           }
          ],
          "carpet": [
           {
            "aaxis": {
             "endlinecolor": "#2a3f5f",
             "gridcolor": "white",
             "linecolor": "white",
             "minorgridcolor": "white",
             "startlinecolor": "#2a3f5f"
            },
            "baxis": {
             "endlinecolor": "#2a3f5f",
             "gridcolor": "white",
             "linecolor": "white",
             "minorgridcolor": "white",
             "startlinecolor": "#2a3f5f"
            },
            "type": "carpet"
           }
          ],
          "choropleth": [
           {
            "colorbar": {
             "outlinewidth": 0,
             "ticks": ""
            },
            "type": "choropleth"
           }
          ],
          "contour": [
           {
            "colorbar": {
             "outlinewidth": 0,
             "ticks": ""
            },
            "colorscale": [
             [
              0,
              "#0d0887"
             ],
             [
              0.1111111111111111,
              "#46039f"
             ],
             [
              0.2222222222222222,
              "#7201a8"
             ],
             [
              0.3333333333333333,
              "#9c179e"
             ],
             [
              0.4444444444444444,
              "#bd3786"
             ],
             [
              0.5555555555555556,
              "#d8576b"
             ],
             [
              0.6666666666666666,
              "#ed7953"
             ],
             [
              0.7777777777777778,
              "#fb9f3a"
             ],
             [
              0.8888888888888888,
              "#fdca26"
             ],
             [
              1,
              "#f0f921"
             ]
            ],
            "type": "contour"
           }
          ],
          "contourcarpet": [
           {
            "colorbar": {
             "outlinewidth": 0,
             "ticks": ""
            },
            "type": "contourcarpet"
           }
          ],
          "heatmap": [
           {
            "colorbar": {
             "outlinewidth": 0,
             "ticks": ""
            },
            "colorscale": [
             [
              0,
              "#0d0887"
             ],
             [
              0.1111111111111111,
              "#46039f"
             ],
             [
              0.2222222222222222,
              "#7201a8"
             ],
             [
              0.3333333333333333,
              "#9c179e"
             ],
             [
              0.4444444444444444,
              "#bd3786"
             ],
             [
              0.5555555555555556,
              "#d8576b"
             ],
             [
              0.6666666666666666,
              "#ed7953"
             ],
             [
              0.7777777777777778,
              "#fb9f3a"
             ],
             [
              0.8888888888888888,
              "#fdca26"
             ],
             [
              1,
              "#f0f921"
             ]
            ],
            "type": "heatmap"
           }
          ],
          "heatmapgl": [
           {
            "colorbar": {
             "outlinewidth": 0,
             "ticks": ""
            },
            "colorscale": [
             [
              0,
              "#0d0887"
             ],
             [
              0.1111111111111111,
              "#46039f"
             ],
             [
              0.2222222222222222,
              "#7201a8"
             ],
             [
              0.3333333333333333,
              "#9c179e"
             ],
             [
              0.4444444444444444,
              "#bd3786"
             ],
             [
              0.5555555555555556,
              "#d8576b"
             ],
             [
              0.6666666666666666,
              "#ed7953"
             ],
             [
              0.7777777777777778,
              "#fb9f3a"
             ],
             [
              0.8888888888888888,
              "#fdca26"
             ],
             [
              1,
              "#f0f921"
             ]
            ],
            "type": "heatmapgl"
           }
          ],
          "histogram": [
           {
            "marker": {
             "pattern": {
              "fillmode": "overlay",
              "size": 10,
              "solidity": 0.2
             }
            },
            "type": "histogram"
           }
          ],
          "histogram2d": [
           {
            "colorbar": {
             "outlinewidth": 0,
             "ticks": ""
            },
            "colorscale": [
             [
              0,
              "#0d0887"
             ],
             [
              0.1111111111111111,
              "#46039f"
             ],
             [
              0.2222222222222222,
              "#7201a8"
             ],
             [
              0.3333333333333333,
              "#9c179e"
             ],
             [
              0.4444444444444444,
              "#bd3786"
             ],
             [
              0.5555555555555556,
              "#d8576b"
             ],
             [
              0.6666666666666666,
              "#ed7953"
             ],
             [
              0.7777777777777778,
              "#fb9f3a"
             ],
             [
              0.8888888888888888,
              "#fdca26"
             ],
             [
              1,
              "#f0f921"
             ]
            ],
            "type": "histogram2d"
           }
          ],
          "histogram2dcontour": [
           {
            "colorbar": {
             "outlinewidth": 0,
             "ticks": ""
            },
            "colorscale": [
             [
              0,
              "#0d0887"
             ],
             [
              0.1111111111111111,
              "#46039f"
             ],
             [
              0.2222222222222222,
              "#7201a8"
             ],
             [
              0.3333333333333333,
              "#9c179e"
             ],
             [
              0.4444444444444444,
              "#bd3786"
             ],
             [
              0.5555555555555556,
              "#d8576b"
             ],
             [
              0.6666666666666666,
              "#ed7953"
             ],
             [
              0.7777777777777778,
              "#fb9f3a"
             ],
             [
              0.8888888888888888,
              "#fdca26"
             ],
             [
              1,
              "#f0f921"
             ]
            ],
            "type": "histogram2dcontour"
           }
          ],
          "mesh3d": [
           {
            "colorbar": {
             "outlinewidth": 0,
             "ticks": ""
            },
            "type": "mesh3d"
           }
          ],
          "parcoords": [
           {
            "line": {
             "colorbar": {
              "outlinewidth": 0,
              "ticks": ""
             }
            },
            "type": "parcoords"
           }
          ],
          "pie": [
           {
            "automargin": true,
            "type": "pie"
           }
          ],
          "scatter": [
           {
            "fillpattern": {
             "fillmode": "overlay",
             "size": 10,
             "solidity": 0.2
            },
            "type": "scatter"
           }
          ],
          "scatter3d": [
           {
            "line": {
             "colorbar": {
              "outlinewidth": 0,
              "ticks": ""
             }
            },
            "marker": {
             "colorbar": {
              "outlinewidth": 0,
              "ticks": ""
             }
            },
            "type": "scatter3d"
           }
          ],
          "scattercarpet": [
           {
            "marker": {
             "colorbar": {
              "outlinewidth": 0,
              "ticks": ""
             }
            },
            "type": "scattercarpet"
           }
          ],
          "scattergeo": [
           {
            "marker": {
             "colorbar": {
              "outlinewidth": 0,
              "ticks": ""
             }
            },
            "type": "scattergeo"
           }
          ],
          "scattergl": [
           {
            "marker": {
             "colorbar": {
              "outlinewidth": 0,
              "ticks": ""
             }
            },
            "type": "scattergl"
           }
          ],
          "scattermapbox": [
           {
            "marker": {
             "colorbar": {
              "outlinewidth": 0,
              "ticks": ""
             }
            },
            "type": "scattermapbox"
           }
          ],
          "scatterpolar": [
           {
            "marker": {
             "colorbar": {
              "outlinewidth": 0,
              "ticks": ""
             }
            },
            "type": "scatterpolar"
           }
          ],
          "scatterpolargl": [
           {
            "marker": {
             "colorbar": {
              "outlinewidth": 0,
              "ticks": ""
             }
            },
            "type": "scatterpolargl"
           }
          ],
          "scatterternary": [
           {
            "marker": {
             "colorbar": {
              "outlinewidth": 0,
              "ticks": ""
             }
            },
            "type": "scatterternary"
           }
          ],
          "surface": [
           {
            "colorbar": {
             "outlinewidth": 0,
             "ticks": ""
            },
            "colorscale": [
             [
              0,
              "#0d0887"
             ],
             [
              0.1111111111111111,
              "#46039f"
             ],
             [
              0.2222222222222222,
              "#7201a8"
             ],
             [
              0.3333333333333333,
              "#9c179e"
             ],
             [
              0.4444444444444444,
              "#bd3786"
             ],
             [
              0.5555555555555556,
              "#d8576b"
             ],
             [
              0.6666666666666666,
              "#ed7953"
             ],
             [
              0.7777777777777778,
              "#fb9f3a"
             ],
             [
              0.8888888888888888,
              "#fdca26"
             ],
             [
              1,
              "#f0f921"
             ]
            ],
            "type": "surface"
           }
          ],
          "table": [
           {
            "cells": {
             "fill": {
              "color": "#EBF0F8"
             },
             "line": {
              "color": "white"
             }
            },
            "header": {
             "fill": {
              "color": "#C8D4E3"
             },
             "line": {
              "color": "white"
             }
            },
            "type": "table"
           }
          ]
         },
         "layout": {
          "annotationdefaults": {
           "arrowcolor": "#2a3f5f",
           "arrowhead": 0,
           "arrowwidth": 1
          },
          "autotypenumbers": "strict",
          "coloraxis": {
           "colorbar": {
            "outlinewidth": 0,
            "ticks": ""
           }
          },
          "colorscale": {
           "diverging": [
            [
             0,
             "#8e0152"
            ],
            [
             0.1,
             "#c51b7d"
            ],
            [
             0.2,
             "#de77ae"
            ],
            [
             0.3,
             "#f1b6da"
            ],
            [
             0.4,
             "#fde0ef"
            ],
            [
             0.5,
             "#f7f7f7"
            ],
            [
             0.6,
             "#e6f5d0"
            ],
            [
             0.7,
             "#b8e186"
            ],
            [
             0.8,
             "#7fbc41"
            ],
            [
             0.9,
             "#4d9221"
            ],
            [
             1,
             "#276419"
            ]
           ],
           "sequential": [
            [
             0,
             "#0d0887"
            ],
            [
             0.1111111111111111,
             "#46039f"
            ],
            [
             0.2222222222222222,
             "#7201a8"
            ],
            [
             0.3333333333333333,
             "#9c179e"
            ],
            [
             0.4444444444444444,
             "#bd3786"
            ],
            [
             0.5555555555555556,
             "#d8576b"
            ],
            [
             0.6666666666666666,
             "#ed7953"
            ],
            [
             0.7777777777777778,
             "#fb9f3a"
            ],
            [
             0.8888888888888888,
             "#fdca26"
            ],
            [
             1,
             "#f0f921"
            ]
           ],
           "sequentialminus": [
            [
             0,
             "#0d0887"
            ],
            [
             0.1111111111111111,
             "#46039f"
            ],
            [
             0.2222222222222222,
             "#7201a8"
            ],
            [
             0.3333333333333333,
             "#9c179e"
            ],
            [
             0.4444444444444444,
             "#bd3786"
            ],
            [
             0.5555555555555556,
             "#d8576b"
            ],
            [
             0.6666666666666666,
             "#ed7953"
            ],
            [
             0.7777777777777778,
             "#fb9f3a"
            ],
            [
             0.8888888888888888,
             "#fdca26"
            ],
            [
             1,
             "#f0f921"
            ]
           ]
          },
          "colorway": [
           "#636efa",
           "#EF553B",
           "#00cc96",
           "#ab63fa",
           "#FFA15A",
           "#19d3f3",
           "#FF6692",
           "#B6E880",
           "#FF97FF",
           "#FECB52"
          ],
          "font": {
           "color": "#2a3f5f"
          },
          "geo": {
           "bgcolor": "white",
           "lakecolor": "white",
           "landcolor": "#E5ECF6",
           "showlakes": true,
           "showland": true,
           "subunitcolor": "white"
          },
          "hoverlabel": {
           "align": "left"
          },
          "hovermode": "closest",
          "mapbox": {
           "style": "light"
          },
          "paper_bgcolor": "white",
          "plot_bgcolor": "#E5ECF6",
          "polar": {
           "angularaxis": {
            "gridcolor": "white",
            "linecolor": "white",
            "ticks": ""
           },
           "bgcolor": "#E5ECF6",
           "radialaxis": {
            "gridcolor": "white",
            "linecolor": "white",
            "ticks": ""
           }
          },
          "scene": {
           "xaxis": {
            "backgroundcolor": "#E5ECF6",
            "gridcolor": "white",
            "gridwidth": 2,
            "linecolor": "white",
            "showbackground": true,
            "ticks": "",
            "zerolinecolor": "white"
           },
           "yaxis": {
            "backgroundcolor": "#E5ECF6",
            "gridcolor": "white",
            "gridwidth": 2,
            "linecolor": "white",
            "showbackground": true,
            "ticks": "",
            "zerolinecolor": "white"
           },
           "zaxis": {
            "backgroundcolor": "#E5ECF6",
            "gridcolor": "white",
            "gridwidth": 2,
            "linecolor": "white",
            "showbackground": true,
            "ticks": "",
            "zerolinecolor": "white"
           }
          },
          "shapedefaults": {
           "line": {
            "color": "#2a3f5f"
           }
          },
          "ternary": {
           "aaxis": {
            "gridcolor": "white",
            "linecolor": "white",
            "ticks": ""
           },
           "baxis": {
            "gridcolor": "white",
            "linecolor": "white",
            "ticks": ""
           },
           "bgcolor": "#E5ECF6",
           "caxis": {
            "gridcolor": "white",
            "linecolor": "white",
            "ticks": ""
           }
          },
          "title": {
           "x": 0.05
          },
          "xaxis": {
           "automargin": true,
           "gridcolor": "white",
           "linecolor": "white",
           "ticks": "",
           "title": {
            "standoff": 15
           },
           "zerolinecolor": "white",
           "zerolinewidth": 2
          },
          "yaxis": {
           "automargin": true,
           "gridcolor": "white",
           "linecolor": "white",
           "ticks": "",
           "title": {
            "standoff": 15
           },
           "zerolinecolor": "white",
           "zerolinewidth": 2
          }
         }
        },
        "title": {
         "text": "Cybersecurity Risk Explained by Time (per Industry)"
        },
        "xaxis": {
         "anchor": "y",
         "autorange": true,
         "domain": [
          0,
          1
         ],
         "range": [
          2014.611111111111,
          2022.388888888889
         ],
         "title": {
          "text": "Year"
         },
         "type": "linear"
        },
        "yaxis": {
         "anchor": "x",
         "autorange": true,
         "domain": [
          0,
          1
         ],
         "range": [
          -0.010162067684809022,
          0.04631580061188055
         ],
         "title": {
          "text": "Average Industry Risk Ratio"
         },
         "type": "linear"
        }
       }
      },
      "image/png": "[encoded data removed]",
      "text/html": [
       "<div>                            <div id=\"86974692-0cd9-49e4-b80c-70088f79de7e\" class=\"plotly-graph-div\" style=\"height:575px; width:100%;\"></div>            <script type=\"text/javascript\">                require([\"plotly\"], function(Plotly) {                    window.PLOTLYENV=window.PLOTLYENV || {};                                    if (document.getElementById(\"86974692-0cd9-49e4-b80c-70088f79de7e\")) {                    Plotly.newPlot(                        \"86974692-0cd9-49e4-b80c-70088f79de7e\",                        [{\"error_y\":{\"array\":[0.00666215217077545,0.005733019000246768,0.005096953126371779,0.012163885539209817,0.00781696632549407,0.007211804114098331,0.00686072143552703,0.006355946036081762]},\"hovertemplate\":\"industry=Agriculture, Forestry, and Fishing\\u003cbr\\u003eyear=%{x}\\u003cbr\\u003ecompany_risk_ratio_average=%{y}\\u003cextra\\u003e\\u003c\\u002fextra\\u003e\",\"legendgroup\":\"Agriculture, Forestry, and Fishing\",\"line\":{\"color\":\"#636efa\",\"dash\":\"solid\"},\"marker\":{\"symbol\":\"circle\"},\"mode\":\"lines\",\"name\":\"Agriculture, Forestry, and Fishing\",\"orientation\":\"v\",\"showlegend\":true,\"x\":[2015,2016,2017,2018,2019,2020,2021,2022],\"xaxis\":\"x\",\"y\":[0.005447272774669793,0.007564217597826565,0.009400190037470016,0.011224033301434622,0.012009422217240042,0.012400575474104057,0.01297658402568388,0.013425136453012703],\"yaxis\":\"y\",\"type\":\"scatter\"},{\"error_y\":{\"array\":[0.005494765706469598,0.006354212547479259,0.0035342280583214604,0.006702212713048955,0.007629538145768232,0.011583430188100428,0.010006260968862882,0.010491675804015933]},\"hovertemplate\":\"industry=Mining\\u003cbr\\u003eyear=%{x}\\u003cbr\\u003ecompany_risk_ratio_average=%{y}\\u003cextra\\u003e\\u003c\\u002fextra\\u003e\",\"legendgroup\":\"Mining\",\"line\":{\"color\":\"#EF553B\",\"dash\":\"solid\"},\"marker\":{\"symbol\":\"circle\"},\"mode\":\"lines\",\"name\":\"Mining\",\"orientation\":\"v\",\"showlegend\":true,\"x\":[2015,2016,2017,2018,2019,2020,2021,2022],\"xaxis\":\"x\",\"y\":[0.00464602974178183,0.008867604606655062,0.0038647774413272454,0.010358693778370832,0.010118432122829538,0.010957221414697058,0.014115090865801191,0.01705368101275457],\"yaxis\":\"y\",\"type\":\"scatter\"},{\"error_y\":{\"array\":[0.00241958980379284,0.0031504574047548513,0.004296731133603179,0.005742788040771649,0.005262326890395766,0.00523959689403062,0.005186150552460386,0.007081310607331354]},\"hovertemplate\":\"industry=Construction\\u003cbr\\u003eyear=%{x}\\u003cbr\\u003ecompany_risk_ratio_average=%{y}\\u003cextra\\u003e\\u003c\\u002fextra\\u003e\",\"legendgroup\":\"Construction\",\"line\":{\"color\":\"#00cc96\",\"dash\":\"solid\"},\"marker\":{\"symbol\":\"circle\"},\"mode\":\"lines\",\"name\":\"Construction\",\"orientation\":\"v\",\"showlegend\":true,\"x\":[2015,2016,2017,2018,2019,2020,2021,2022],\"xaxis\":\"x\",\"y\":[0.00289920084170408,0.004315419888357559,0.004105422766976051,0.0050690399674806624,0.006147295991785591,0.007780278953371948,0.013098319409066514,0.01414813418288537],\"yaxis\":\"y\",\"type\":\"scatter\"},{\"error_y\":{\"array\":[0.005483318242240344,0.0027444727664306954,0.00564989361026767,0.019391577578676943,0.009319328912331126,0.01593415332523488,0.00964604812138707,0.007216980138664978]},\"hovertemplate\":\"industry=Manufacturing\\u003cbr\\u003eyear=%{x}\\u003cbr\\u003ecompany_risk_ratio_average=%{y}\\u003cextra\\u003e\\u003c\\u002fextra\\u003e\",\"legendgroup\":\"Manufacturing\",\"line\":{\"color\":\"#ab63fa\",\"dash\":\"solid\"},\"marker\":{\"symbol\":\"circle\"},\"mode\":\"lines\",\"name\":\"Manufacturing\",\"orientation\":\"v\",\"showlegend\":true,\"x\":[2015,2016,2017,2018,2019,2020,2021,2022],\"xaxis\":\"x\",\"y\":[0.00515459018919569,0.005153809767368538,0.005356278122923642,0.013248970333924023,0.010490329901319009,0.008595979055260336,0.01121874793437661,0.007873870079880435],\"yaxis\":\"y\",\"type\":\"scatter\"},{\"error_y\":{\"array\":[0.00813870884268829,0.0072103266347856325,0.013854921592267696,0.014804166478741634,0.009299038993392536,0.0063898060612252745,0.013924718376654934,0.02071493123183222]},\"hovertemplate\":\"industry=Transportation and other Utilities\\u003cbr\\u003eyear=%{x}\\u003cbr\\u003ecompany_risk_ratio_average=%{y}\\u003cextra\\u003e\\u003c\\u002fextra\\u003e\",\"legendgroup\":\"Transportation and other Utilities\",\"line\":{\"color\":\"#FFA15A\",\"dash\":\"solid\"},\"marker\":{\"symbol\":\"circle\"},\"mode\":\"lines\",\"name\":\"Transportation and other Utilities\",\"orientation\":\"v\",\"showlegend\":true,\"x\":[2015,2016,2017,2018,2019,2020,2021,2022],\"xaxis\":\"x\",\"y\":[0.008062067947065581,0.006441426677858006,0.012848602836428935,0.01490875849485954,0.01331294759725305,0.009364029556119442,0.013700633454296882,0.018840473147418994],\"yaxis\":\"y\",\"type\":\"scatter\"},{\"error_y\":{\"array\":[0.011604236177416818,0.00573807134782695,0.016112338139663448,0.009320027347242028,0.007164158879845681,0.007965428154843667,0.008315942964585276,0.011311571045145552]},\"hovertemplate\":\"industry=Wholesale Trade\\u003cbr\\u003eyear=%{x}\\u003cbr\\u003ecompany_risk_ratio_average=%{y}\\u003cextra\\u003e\\u003c\\u002fextra\\u003e\",\"legendgroup\":\"Wholesale Trade\",\"line\":{\"color\":\"#19d3f3\",\"dash\":\"solid\"},\"marker\":{\"symbol\":\"circle\"},\"mode\":\"lines\",\"name\":\"Wholesale Trade\",\"orientation\":\"v\",\"showlegend\":true,\"x\":[2015,2016,2017,2018,2019,2020,2021,2022],\"xaxis\":\"x\",\"y\":[0.008150120924607492,0.006826827866715674,0.011477154971891095,0.009727055252011613,0.016604578674407657,0.007406430222439704,0.012644155904214818,0.014521067374861784],\"yaxis\":\"y\",\"type\":\"scatter\"},{\"error_y\":{\"array\":[0.004972422454178382,0.006433163864721213,0.010397863846256393,0.011251307179841127,0.018459036452818663,0.01898737451208713,0.016128497437773132,0.00566554877815346]},\"hovertemplate\":\"industry=Retail Trade\\u003cbr\\u003eyear=%{x}\\u003cbr\\u003ecompany_risk_ratio_average=%{y}\\u003cextra\\u003e\\u003c\\u002fextra\\u003e\",\"legendgroup\":\"Retail Trade\",\"line\":{\"color\":\"#FF6692\",\"dash\":\"solid\"},\"marker\":{\"symbol\":\"circle\"},\"mode\":\"lines\",\"name\":\"Retail Trade\",\"orientation\":\"v\",\"showlegend\":true,\"x\":[2015,2016,2017,2018,2019,2020,2021,2022],\"xaxis\":\"x\",\"y\":[0.005868523840165183,0.007622712448756915,0.008562609483251713,0.011752331454227041,0.015062834390790886,0.018907718120683977,0.019103152234676835,0.008120619424402292],\"yaxis\":\"y\",\"type\":\"scatter\"},{\"error_y\":{\"array\":[0.013678703362135324,0.007695849480359278,0.007865429396144057,0.011268282894526723,0.014710061237080078,0.020932113548926524,0.011521217588250905,0.008155135580729037]},\"hovertemplate\":\"industry=Finance, Insurance, and Real Estate\\u003cbr\\u003eyear=%{x}\\u003cbr\\u003ecompany_risk_ratio_average=%{y}\\u003cextra\\u003e\\u003c\\u002fextra\\u003e\",\"legendgroup\":\"Finance, Insurance, and Real Estate\",\"line\":{\"color\":\"#B6E880\",\"dash\":\"solid\"},\"marker\":{\"symbol\":\"circle\"},\"mode\":\"lines\",\"name\":\"Finance, Insurance, and Real Estate\",\"orientation\":\"v\",\"showlegend\":true,\"x\":[2015,2016,2017,2018,2019,2020,2021,2022],\"xaxis\":\"x\",\"y\":[0.008062409653260027,0.009905203041708884,0.012419168419899828,0.014402352607377183,0.015005491334799509,0.022559793648119542,0.016357479794841805,0.01559428800985747],\"yaxis\":\"y\",\"type\":\"scatter\"},{\"error_y\":{\"array\":[0.006840463232361317,0.009113994121933963,0.009430492790699678,0.007245136787566546,0.009317652426407034,0.007246185216827387,0.014193217606185556,0.0068323668934303205]},\"hovertemplate\":\"industry=Services\\u003cbr\\u003eyear=%{x}\\u003cbr\\u003ecompany_risk_ratio_average=%{y}\\u003cextra\\u003e\\u003c\\u002fextra\\u003e\",\"legendgroup\":\"Services\",\"line\":{\"color\":\"#FF97FF\",\"dash\":\"solid\"},\"marker\":{\"symbol\":\"circle\"},\"mode\":\"lines\",\"name\":\"Services\",\"orientation\":\"v\",\"showlegend\":true,\"x\":[2015,2016,2017,2018,2019,2020,2021,2022],\"xaxis\":\"x\",\"y\":[0.007309924883268891,0.01447670980909076,0.010209653869102797,0.00662884142933125,0.009995395185877012,0.012107231027791954,0.022240469250091467,0.010605492258891167],\"yaxis\":\"y\",\"type\":\"scatter\"},{\"error_y\":{\"array\":[0.007348030887785097,0.004667083624916829,0.012648918123835584,0.001510413090778025,0.0016593395524022567,0.0018115415075336658,0.008946337136106685,0.004923648444430547]},\"hovertemplate\":\"industry=Public Administration\\u003cbr\\u003eyear=%{x}\\u003cbr\\u003ecompany_risk_ratio_average=%{y}\\u003cextra\\u003e\\u003c\\u002fextra\\u003e\",\"legendgroup\":\"Public Administration\",\"line\":{\"color\":\"#FECB52\",\"dash\":\"solid\"},\"marker\":{\"symbol\":\"circle\"},\"mode\":\"lines\",\"name\":\"Public Administration\",\"orientation\":\"v\",\"showlegend\":true,\"x\":[2015,2016,2017,2018,2019,2020,2021,2022],\"xaxis\":\"x\",\"y\":[0.003378248119809124,0.0023253314592535613,0.007345344258853535,0.0007134326283262454,0.0009592423085126957,0.0013331629102922757,0.007930315362670018,0.004524473956844945],\"yaxis\":\"y\",\"type\":\"scatter\"}],                        {\"template\":{\"data\":{\"histogram2dcontour\":[{\"type\":\"histogram2dcontour\",\"colorbar\":{\"outlinewidth\":0,\"ticks\":\"\"},\"colorscale\":[[0.0,\"#0d0887\"],[0.1111111111111111,\"#46039f\"],[0.2222222222222222,\"#7201a8\"],[0.3333333333333333,\"#9c179e\"],[0.4444444444444444,\"#bd3786\"],[0.5555555555555556,\"#d8576b\"],[0.6666666666666666,\"#ed7953\"],[0.7777777777777778,\"#fb9f3a\"],[0.8888888888888888,\"#fdca26\"],[1.0,\"#f0f921\"]]}],\"choropleth\":[{\"type\":\"choropleth\",\"colorbar\":{\"outlinewidth\":0,\"ticks\":\"\"}}],\"histogram2d\":[{\"type\":\"histogram2d\",\"colorbar\":{\"outlinewidth\":0,\"ticks\":\"\"},\"colorscale\":[[0.0,\"#0d0887\"],[0.1111111111111111,\"#46039f\"],[0.2222222222222222,\"#7201a8\"],[0.3333333333333333,\"#9c179e\"],[0.4444444444444444,\"#bd3786\"],[0.5555555555555556,\"#d8576b\"],[0.6666666666666666,\"#ed7953\"],[0.7777777777777778,\"#fb9f3a\"],[0.8888888888888888,\"#fdca26\"],[1.0,\"#f0f921\"]]}],\"heatmap\":[{\"type\":\"heatmap\",\"colorbar\":{\"outlinewidth\":0,\"ticks\":\"\"},\"colorscale\":[[0.0,\"#0d0887\"],[0.1111111111111111,\"#46039f\"],[0.2222222222222222,\"#7201a8\"],[0.3333333333333333,\"#9c179e\"],[0.4444444444444444,\"#bd3786\"],[0.5555555555555556,\"#d8576b\"],[0.6666666666666666,\"#ed7953\"],[0.7777777777777778,\"#fb9f3a\"],[0.8888888888888888,\"#fdca26\"],[1.0,\"#f0f921\"]]}],\"heatmapgl\":[{\"type\":\"heatmapgl\",\"colorbar\":{\"outlinewidth\":0,\"ticks\":\"\"},\"colorscale\":[[0.0,\"#0d0887\"],[0.1111111111111111,\"#46039f\"],[0.2222222222222222,\"#7201a8\"],[0.3333333333333333,\"#9c179e\"],[0.4444444444444444,\"#bd3786\"],[0.5555555555555556,\"#d8576b\"],[0.6666666666666666,\"#ed7953\"],[0.7777777777777778,\"#fb9f3a\"],[0.8888888888888888,\"#fdca26\"],[1.0,\"#f0f921\"]]}],\"contourcarpet\":[{\"type\":\"contourcarpet\",\"colorbar\":{\"outlinewidth\":0,\"ticks\":\"\"}}],\"contour\":[{\"type\":\"contour\",\"colorbar\":{\"outlinewidth\":0,\"ticks\":\"\"},\"colorscale\":[[0.0,\"#0d0887\"],[0.1111111111111111,\"#46039f\"],[0.2222222222222222,\"#7201a8\"],[0.3333333333333333,\"#9c179e\"],[0.4444444444444444,\"#bd3786\"],[0.5555555555555556,\"#d8576b\"],[0.6666666666666666,\"#ed7953\"],[0.7777777777777778,\"#fb9f3a\"],[0.8888888888888888,\"#fdca26\"],[1.0,\"#f0f921\"]]}],\"surface\":[{\"type\":\"surface\",\"colorbar\":{\"outlinewidth\":0,\"ticks\":\"\"},\"colorscale\":[[0.0,\"#0d0887\"],[0.1111111111111111,\"#46039f\"],[0.2222222222222222,\"#7201a8\"],[0.3333333333333333,\"#9c179e\"],[0.4444444444444444,\"#bd3786\"],[0.5555555555555556,\"#d8576b\"],[0.6666666666666666,\"#ed7953\"],[0.7777777777777778,\"#fb9f3a\"],[0.8888888888888888,\"#fdca26\"],[1.0,\"#f0f921\"]]}],\"mesh3d\":[{\"type\":\"mesh3d\",\"colorbar\":{\"outlinewidth\":0,\"ticks\":\"\"}}],\"scatter\":[{\"fillpattern\":{\"fillmode\":\"overlay\",\"size\":10,\"solidity\":0.2},\"type\":\"scatter\"}],\"parcoords\":[{\"type\":\"parcoords\",\"line\":{\"colorbar\":{\"outlinewidth\":0,\"ticks\":\"\"}}}],\"scatterpolargl\":[{\"type\":\"scatterpolargl\",\"marker\":{\"colorbar\":{\"outlinewidth\":0,\"ticks\":\"\"}}}],\"bar\":[{\"error_x\":{\"color\":\"#2a3f5f\"},\"error_y\":{\"color\":\"#2a3f5f\"},\"marker\":{\"line\":{\"color\":\"#E5ECF6\",\"width\":0.5},\"pattern\":{\"fillmode\":\"overlay\",\"size\":10,\"solidity\":0.2}},\"type\":\"bar\"}],\"scattergeo\":[{\"type\":\"scattergeo\",\"marker\":{\"colorbar\":{\"outlinewidth\":0,\"ticks\":\"\"}}}],\"scatterpolar\":[{\"type\":\"scatterpolar\",\"marker\":{\"colorbar\":{\"outlinewidth\":0,\"ticks\":\"\"}}}],\"histogram\":[{\"marker\":{\"pattern\":{\"fillmode\":\"overlay\",\"size\":10,\"solidity\":0.2}},\"type\":\"histogram\"}],\"scattergl\":[{\"type\":\"scattergl\",\"marker\":{\"colorbar\":{\"outlinewidth\":0,\"ticks\":\"\"}}}],\"scatter3d\":[{\"type\":\"scatter3d\",\"line\":{\"colorbar\":{\"outlinewidth\":0,\"ticks\":\"\"}},\"marker\":{\"colorbar\":{\"outlinewidth\":0,\"ticks\":\"\"}}}],\"scattermapbox\":[{\"type\":\"scattermapbox\",\"marker\":{\"colorbar\":{\"outlinewidth\":0,\"ticks\":\"\"}}}],\"scatterternary\":[{\"type\":\"scatterternary\",\"marker\":{\"colorbar\":{\"outlinewidth\":0,\"ticks\":\"\"}}}],\"scattercarpet\":[{\"type\":\"scattercarpet\",\"marker\":{\"colorbar\":{\"outlinewidth\":0,\"ticks\":\"\"}}}],\"carpet\":[{\"aaxis\":{\"endlinecolor\":\"#2a3f5f\",\"gridcolor\":\"white\",\"linecolor\":\"white\",\"minorgridcolor\":\"white\",\"startlinecolor\":\"#2a3f5f\"},\"baxis\":{\"endlinecolor\":\"#2a3f5f\",\"gridcolor\":\"white\",\"linecolor\":\"white\",\"minorgridcolor\":\"white\",\"startlinecolor\":\"#2a3f5f\"},\"type\":\"carpet\"}],\"table\":[{\"cells\":{\"fill\":{\"color\":\"#EBF0F8\"},\"line\":{\"color\":\"white\"}},\"header\":{\"fill\":{\"color\":\"#C8D4E3\"},\"line\":{\"color\":\"white\"}},\"type\":\"table\"}],\"barpolar\":[{\"marker\":{\"line\":{\"color\":\"#E5ECF6\",\"width\":0.5},\"pattern\":{\"fillmode\":\"overlay\",\"size\":10,\"solidity\":0.2}},\"type\":\"barpolar\"}],\"pie\":[{\"automargin\":true,\"type\":\"pie\"}]},\"layout\":{\"autotypenumbers\":\"strict\",\"colorway\":[\"#636efa\",\"#EF553B\",\"#00cc96\",\"#ab63fa\",\"#FFA15A\",\"#19d3f3\",\"#FF6692\",\"#B6E880\",\"#FF97FF\",\"#FECB52\"],\"font\":{\"color\":\"#2a3f5f\"},\"hovermode\":\"closest\",\"hoverlabel\":{\"align\":\"left\"},\"paper_bgcolor\":\"white\",\"plot_bgcolor\":\"#E5ECF6\",\"polar\":{\"bgcolor\":\"#E5ECF6\",\"angularaxis\":{\"gridcolor\":\"white\",\"linecolor\":\"white\",\"ticks\":\"\"},\"radialaxis\":{\"gridcolor\":\"white\",\"linecolor\":\"white\",\"ticks\":\"\"}},\"ternary\":{\"bgcolor\":\"#E5ECF6\",\"aaxis\":{\"gridcolor\":\"white\",\"linecolor\":\"white\",\"ticks\":\"\"},\"baxis\":{\"gridcolor\":\"white\",\"linecolor\":\"white\",\"ticks\":\"\"},\"caxis\":{\"gridcolor\":\"white\",\"linecolor\":\"white\",\"ticks\":\"\"}},\"coloraxis\":{\"colorbar\":{\"outlinewidth\":0,\"ticks\":\"\"}},\"colorscale\":{\"sequential\":[[0.0,\"#0d0887\"],[0.1111111111111111,\"#46039f\"],[0.2222222222222222,\"#7201a8\"],[0.3333333333333333,\"#9c179e\"],[0.4444444444444444,\"#bd3786\"],[0.5555555555555556,\"#d8576b\"],[0.6666666666666666,\"#ed7953\"],[0.7777777777777778,\"#fb9f3a\"],[0.8888888888888888,\"#fdca26\"],[1.0,\"#f0f921\"]],\"sequentialminus\":[[0.0,\"#0d0887\"],[0.1111111111111111,\"#46039f\"],[0.2222222222222222,\"#7201a8\"],[0.3333333333333333,\"#9c179e\"],[0.4444444444444444,\"#bd3786\"],[0.5555555555555556,\"#d8576b\"],[0.6666666666666666,\"#ed7953\"],[0.7777777777777778,\"#fb9f3a\"],[0.8888888888888888,\"#fdca26\"],[1.0,\"#f0f921\"]],\"diverging\":[[0,\"#8e0152\"],[0.1,\"#c51b7d\"],[0.2,\"#de77ae\"],[0.3,\"#f1b6da\"],[0.4,\"#fde0ef\"],[0.5,\"#f7f7f7\"],[0.6,\"#e6f5d0\"],[0.7,\"#b8e186\"],[0.8,\"#7fbc41\"],[0.9,\"#4d9221\"],[1,\"#276419\"]]},\"xaxis\":{\"gridcolor\":\"white\",\"linecolor\":\"white\",\"ticks\":\"\",\"title\":{\"standoff\":15},\"zerolinecolor\":\"white\",\"automargin\":true,\"zerolinewidth\":2},\"yaxis\":{\"gridcolor\":\"white\",\"linecolor\":\"white\",\"ticks\":\"\",\"title\":{\"standoff\":15},\"zerolinecolor\":\"white\",\"automargin\":true,\"zerolinewidth\":2},\"scene\":{\"xaxis\":{\"backgroundcolor\":\"#E5ECF6\",\"gridcolor\":\"white\",\"linecolor\":\"white\",\"showbackground\":true,\"ticks\":\"\",\"zerolinecolor\":\"white\",\"gridwidth\":2},\"yaxis\":{\"backgroundcolor\":\"#E5ECF6\",\"gridcolor\":\"white\",\"linecolor\":\"white\",\"showbackground\":true,\"ticks\":\"\",\"zerolinecolor\":\"white\",\"gridwidth\":2},\"zaxis\":{\"backgroundcolor\":\"#E5ECF6\",\"gridcolor\":\"white\",\"linecolor\":\"white\",\"showbackground\":true,\"ticks\":\"\",\"zerolinecolor\":\"white\",\"gridwidth\":2}},\"shapedefaults\":{\"line\":{\"color\":\"#2a3f5f\"}},\"annotationdefaults\":{\"arrowcolor\":\"#2a3f5f\",\"arrowhead\":0,\"arrowwidth\":1},\"geo\":{\"bgcolor\":\"white\",\"landcolor\":\"#E5ECF6\",\"subunitcolor\":\"white\",\"showland\":true,\"showlakes\":true,\"lakecolor\":\"white\"},\"title\":{\"x\":0.05},\"mapbox\":{\"style\":\"light\"}}},\"xaxis\":{\"anchor\":\"y\",\"domain\":[0.0,1.0],\"title\":{\"text\":\"Year\"}},\"yaxis\":{\"anchor\":\"x\",\"domain\":[0.0,1.0],\"title\":{\"text\":\"Average Industry Risk Ratio\"}},\"legend\":{\"title\":{\"text\":\"Industry\"},\"tracegroupgap\":0},\"title\":{\"text\":\"Cybersecurity Risk Explained by Time (per Industry)\"},\"height\":575},                        {\"responsive\": true}                    ).then(function(){\n",
       "                            \n",
       "var gd = document.getElementById('86974692-0cd9-49e4-b80c-70088f79de7e');\n",
       "var x = new MutationObserver(function (mutations, observer) {{\n",
       "        var display = window.getComputedStyle(gd).display;\n",
       "        if (!display || display === 'none') {{\n",
       "            console.log([gd, 'removed!']);\n",
       "            Plotly.purge(gd);\n",
       "            observer.disconnect();\n",
       "        }}\n",
       "}});\n",
       "\n",
       "// Listen for the removal of the full notebook cells\n",
       "var notebookContainer = gd.closest('#notebook-container');\n",
       "if (notebookContainer) {{\n",
       "    x.observe(notebookContainer, {childList: true});\n",
       "}}\n",
       "\n",
       "// Listen for the clearing of the current output cell\n",
       "var outputEl = gd.closest('.output');\n",
       "if (outputEl) {{\n",
       "    x.observe(outputEl, {childList: true});\n",
       "}}\n",
       "\n",
       "                        })                };                });            </script>        </div>"
      ]
     },
     "metadata": {},
     "output_type": "display_data"
    }
   ],
   "source": [
    "fig = px.line(\n",
    "    combined_company_df,\n",
    "    x = \"year\",\n",
    "    y = \"company_risk_ratio_average\",\n",
    "    error_y = \"company_risk_ratio_std\",\n",
    "    color = \"industry\",\n",
    "    title = \"Cybersecurity Risk Explained by Time (per Industry)\"\n",
    ")\n",
    "\n",
    "fig.update_layout(\n",
    "    xaxis_title = \"Year\",\n",
    "    yaxis_title = \"Average Industry Risk Ratio\",\n",
    "    legend_title = \"Industry\",\n",
    "    height = 575,\n",
    "    width = 1400\n",
    ")\n",
    "\n",
    "fig.show()"
   ]
  }
 ],
 "metadata": {
  "kernelspec": {
   "display_name": "Python 3 (ipykernel)",
   "language": "python",
   "name": "python3"
  },
  "language_info": {
   "codemirror_mode": {
    "name": "ipython",
    "version": 3
   },
   "file_extension": ".py",
   "mimetype": "text/x-python",
   "name": "python",
   "nbconvert_exporter": "python",
   "pygments_lexer": "ipython3",
   "version": "3.12.4"
  }
 },
 "nbformat": 4,
 "nbformat_minor": 5
}
